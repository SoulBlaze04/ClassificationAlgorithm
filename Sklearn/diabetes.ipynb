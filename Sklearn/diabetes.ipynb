{
 "cells": [
  {
   "cell_type": "markdown",
   "metadata": {},
   "source": [
    "# Dataset: load_diabetes"
   ]
  },
  {
   "cell_type": "markdown",
   "metadata": {},
   "source": [
    "## 1. Dataset analysis"
   ]
  },
  {
   "cell_type": "code",
   "outputs": [],
   "source": [
    "from sklearn.datasets import load_diabetes\n",
    "import pandas as pandas\n",
    "import seaborn as seaborn\n",
    "import matplotlib.pyplot as matplot\n",
    "import numpy as np"
   ],
   "metadata": {
    "collapsed": false,
    "ExecuteTime": {
     "end_time": "2024-08-16T18:50:48.472209100Z",
     "start_time": "2024-08-16T18:50:48.061982500Z"
    }
   },
   "execution_count": 1
  },
  {
   "cell_type": "code",
   "outputs": [
    {
     "name": "stdout",
     "output_type": "stream",
     "text": [
      "BRIEF DESCRIPTION OF THE DATASET: \n",
      ".. _diabetes_dataset:\n",
      "\n",
      "Diabetes dataset\n",
      "----------------\n",
      "\n",
      "Ten baseline variables, age, sex, body mass index, average blood\n",
      "pressure, and six blood serum measurements were obtained for each of n =\n",
      "442 diabetes patients, as well as the response of interest, a\n",
      "quantitative measure of disease progression one year after baseline.\n",
      "\n",
      "**Data Set Characteristics:**\n",
      "\n",
      "  :Number of Instances: 442\n",
      "\n",
      "  :Number of Attributes: First 10 columns are numeric predictive values\n",
      "\n",
      "  :Target: Column 11 is a quantitative measure of disease progression one year after baseline\n",
      "\n",
      "  :Attribute Information:\n",
      "      - age     age in years\n",
      "      - sex\n",
      "      - bmi     body mass index\n",
      "      - bp      average blood pressure\n",
      "      - s1      tc, total serum cholesterol\n",
      "      - s2      ldl, low-density lipoproteins\n",
      "      - s3      hdl, high-density lipoproteins\n",
      "      - s4      tch, total cholesterol / HDL\n",
      "      - s5      ltg, possibly log of serum triglycerides level\n",
      "      - s6      glu, blood sugar level\n",
      "\n",
      "Note: Each of these 10 feature variables have been mean centered and scaled by the standard deviation times the square root of `n_samples` (i.e. the sum of squares of each column totals 1).\n",
      "\n",
      "Source URL:\n",
      "https://www4.stat.ncsu.edu/~boos/var.select/diabetes.html\n",
      "\n",
      "For more information see:\n",
      "Bradley Efron, Trevor Hastie, Iain Johnstone and Robert Tibshirani (2004) \"Least Angle Regression,\" Annals of Statistics (with discussion), 407-499.\n",
      "(https://web.stanford.edu/~hastie/Papers/LARS/LeastAngle_2002.pdf)\n",
      "\n",
      "\n",
      "ATTRIBUTES: \n",
      "['DESCR', 'data', 'data_filename', 'data_module', 'feature_names', 'frame', 'target', 'target_filename']\n",
      "\n",
      "DATA:\n"
     ]
    },
    {
     "data": {
      "text/plain": "          age       sex       bmi        bp        s1        s2        s3  \\\n0    0.038076  0.050680  0.061696  0.021872 -0.044223 -0.034821 -0.043401   \n1   -0.001882 -0.044642 -0.051474 -0.026328 -0.008449 -0.019163  0.074412   \n2    0.085299  0.050680  0.044451 -0.005670 -0.045599 -0.034194 -0.032356   \n3   -0.089063 -0.044642 -0.011595 -0.036656  0.012191  0.024991 -0.036038   \n4    0.005383 -0.044642 -0.036385  0.021872  0.003935  0.015596  0.008142   \n..        ...       ...       ...       ...       ...       ...       ...   \n437  0.041708  0.050680  0.019662  0.059744 -0.005697 -0.002566 -0.028674   \n438 -0.005515  0.050680 -0.015906 -0.067642  0.049341  0.079165 -0.028674   \n439  0.041708  0.050680 -0.015906  0.017293 -0.037344 -0.013840 -0.024993   \n440 -0.045472 -0.044642  0.039062  0.001215  0.016318  0.015283 -0.028674   \n441 -0.045472 -0.044642 -0.073030 -0.081413  0.083740  0.027809  0.173816   \n\n           s4        s5        s6  progression  \n0   -0.002592  0.019907 -0.017646        151.0  \n1   -0.039493 -0.068332 -0.092204         75.0  \n2   -0.002592  0.002861 -0.025930        141.0  \n3    0.034309  0.022688 -0.009362        206.0  \n4   -0.002592 -0.031988 -0.046641        135.0  \n..        ...       ...       ...          ...  \n437 -0.002592  0.031193  0.007207        178.0  \n438  0.034309 -0.018114  0.044485        104.0  \n439 -0.011080 -0.046883  0.015491        132.0  \n440  0.026560  0.044529 -0.025930        220.0  \n441 -0.039493 -0.004222  0.003064         57.0  \n\n[442 rows x 11 columns]",
      "text/html": "<div>\n<style scoped>\n    .dataframe tbody tr th:only-of-type {\n        vertical-align: middle;\n    }\n\n    .dataframe tbody tr th {\n        vertical-align: top;\n    }\n\n    .dataframe thead th {\n        text-align: right;\n    }\n</style>\n<table border=\"1\" class=\"dataframe\">\n  <thead>\n    <tr style=\"text-align: right;\">\n      <th></th>\n      <th>age</th>\n      <th>sex</th>\n      <th>bmi</th>\n      <th>bp</th>\n      <th>s1</th>\n      <th>s2</th>\n      <th>s3</th>\n      <th>s4</th>\n      <th>s5</th>\n      <th>s6</th>\n      <th>progression</th>\n    </tr>\n  </thead>\n  <tbody>\n    <tr>\n      <th>0</th>\n      <td>0.038076</td>\n      <td>0.050680</td>\n      <td>0.061696</td>\n      <td>0.021872</td>\n      <td>-0.044223</td>\n      <td>-0.034821</td>\n      <td>-0.043401</td>\n      <td>-0.002592</td>\n      <td>0.019907</td>\n      <td>-0.017646</td>\n      <td>151.0</td>\n    </tr>\n    <tr>\n      <th>1</th>\n      <td>-0.001882</td>\n      <td>-0.044642</td>\n      <td>-0.051474</td>\n      <td>-0.026328</td>\n      <td>-0.008449</td>\n      <td>-0.019163</td>\n      <td>0.074412</td>\n      <td>-0.039493</td>\n      <td>-0.068332</td>\n      <td>-0.092204</td>\n      <td>75.0</td>\n    </tr>\n    <tr>\n      <th>2</th>\n      <td>0.085299</td>\n      <td>0.050680</td>\n      <td>0.044451</td>\n      <td>-0.005670</td>\n      <td>-0.045599</td>\n      <td>-0.034194</td>\n      <td>-0.032356</td>\n      <td>-0.002592</td>\n      <td>0.002861</td>\n      <td>-0.025930</td>\n      <td>141.0</td>\n    </tr>\n    <tr>\n      <th>3</th>\n      <td>-0.089063</td>\n      <td>-0.044642</td>\n      <td>-0.011595</td>\n      <td>-0.036656</td>\n      <td>0.012191</td>\n      <td>0.024991</td>\n      <td>-0.036038</td>\n      <td>0.034309</td>\n      <td>0.022688</td>\n      <td>-0.009362</td>\n      <td>206.0</td>\n    </tr>\n    <tr>\n      <th>4</th>\n      <td>0.005383</td>\n      <td>-0.044642</td>\n      <td>-0.036385</td>\n      <td>0.021872</td>\n      <td>0.003935</td>\n      <td>0.015596</td>\n      <td>0.008142</td>\n      <td>-0.002592</td>\n      <td>-0.031988</td>\n      <td>-0.046641</td>\n      <td>135.0</td>\n    </tr>\n    <tr>\n      <th>...</th>\n      <td>...</td>\n      <td>...</td>\n      <td>...</td>\n      <td>...</td>\n      <td>...</td>\n      <td>...</td>\n      <td>...</td>\n      <td>...</td>\n      <td>...</td>\n      <td>...</td>\n      <td>...</td>\n    </tr>\n    <tr>\n      <th>437</th>\n      <td>0.041708</td>\n      <td>0.050680</td>\n      <td>0.019662</td>\n      <td>0.059744</td>\n      <td>-0.005697</td>\n      <td>-0.002566</td>\n      <td>-0.028674</td>\n      <td>-0.002592</td>\n      <td>0.031193</td>\n      <td>0.007207</td>\n      <td>178.0</td>\n    </tr>\n    <tr>\n      <th>438</th>\n      <td>-0.005515</td>\n      <td>0.050680</td>\n      <td>-0.015906</td>\n      <td>-0.067642</td>\n      <td>0.049341</td>\n      <td>0.079165</td>\n      <td>-0.028674</td>\n      <td>0.034309</td>\n      <td>-0.018114</td>\n      <td>0.044485</td>\n      <td>104.0</td>\n    </tr>\n    <tr>\n      <th>439</th>\n      <td>0.041708</td>\n      <td>0.050680</td>\n      <td>-0.015906</td>\n      <td>0.017293</td>\n      <td>-0.037344</td>\n      <td>-0.013840</td>\n      <td>-0.024993</td>\n      <td>-0.011080</td>\n      <td>-0.046883</td>\n      <td>0.015491</td>\n      <td>132.0</td>\n    </tr>\n    <tr>\n      <th>440</th>\n      <td>-0.045472</td>\n      <td>-0.044642</td>\n      <td>0.039062</td>\n      <td>0.001215</td>\n      <td>0.016318</td>\n      <td>0.015283</td>\n      <td>-0.028674</td>\n      <td>0.026560</td>\n      <td>0.044529</td>\n      <td>-0.025930</td>\n      <td>220.0</td>\n    </tr>\n    <tr>\n      <th>441</th>\n      <td>-0.045472</td>\n      <td>-0.044642</td>\n      <td>-0.073030</td>\n      <td>-0.081413</td>\n      <td>0.083740</td>\n      <td>0.027809</td>\n      <td>0.173816</td>\n      <td>-0.039493</td>\n      <td>-0.004222</td>\n      <td>0.003064</td>\n      <td>57.0</td>\n    </tr>\n  </tbody>\n</table>\n<p>442 rows × 11 columns</p>\n</div>"
     },
     "execution_count": 2,
     "metadata": {},
     "output_type": "execute_result"
    }
   ],
   "source": [
    "diabetes = load_diabetes()\n",
    "print(\"BRIEF DESCRIPTION OF THE DATASET: \")\n",
    "print(diabetes.DESCR)\n",
    "print()\n",
    "\n",
    "print(\"ATTRIBUTES: \")\n",
    "print(dir(diabetes))\n",
    "print()\n",
    "\n",
    "X = diabetes.data\n",
    "y = diabetes.target\n",
    "fn = diabetes.feature_names\n",
    "\n",
    "print(\"DATA:\")\n",
    "show_data = pandas.DataFrame(data=X, columns=fn)\n",
    "show_data['progression'] = pandas.Series(diabetes.target)\n",
    "show_data"
   ],
   "metadata": {
    "collapsed": false,
    "ExecuteTime": {
     "end_time": "2024-08-16T18:50:51.074310Z",
     "start_time": "2024-08-16T18:50:51.020375Z"
    }
   },
   "execution_count": 2
  },
  {
   "cell_type": "markdown",
   "source": [],
   "metadata": {
    "collapsed": false
   }
  },
  {
   "cell_type": "markdown",
   "source": [
    "**Further data analysis**"
   ],
   "metadata": {
    "collapsed": false
   }
  },
  {
   "cell_type": "code",
   "outputs": [
    {
     "data": {
      "text/plain": "                age           sex           bmi            bp            s1  \\\ncount  4.420000e+02  4.420000e+02  4.420000e+02  4.420000e+02  4.420000e+02   \nmean  -2.511817e-19  1.230790e-17 -2.245564e-16 -4.797570e-17 -1.381499e-17   \nstd    4.761905e-02  4.761905e-02  4.761905e-02  4.761905e-02  4.761905e-02   \nmin   -1.072256e-01 -4.464164e-02 -9.027530e-02 -1.123988e-01 -1.267807e-01   \n25%   -3.729927e-02 -4.464164e-02 -3.422907e-02 -3.665608e-02 -3.424784e-02   \n50%    5.383060e-03 -4.464164e-02 -7.283766e-03 -5.670422e-03 -4.320866e-03   \n75%    3.807591e-02  5.068012e-02  3.124802e-02  3.564379e-02  2.835801e-02   \nmax    1.107267e-01  5.068012e-02  1.705552e-01  1.320436e-01  1.539137e-01   \n\n                 s2            s3            s4            s5            s6  \\\ncount  4.420000e+02  4.420000e+02  4.420000e+02  4.420000e+02  4.420000e+02   \nmean   3.918434e-17 -5.777179e-18 -9.042540e-18  9.293722e-17  1.130318e-17   \nstd    4.761905e-02  4.761905e-02  4.761905e-02  4.761905e-02  4.761905e-02   \nmin   -1.156131e-01 -1.023071e-01 -7.639450e-02 -1.260971e-01 -1.377672e-01   \n25%   -3.035840e-02 -3.511716e-02 -3.949338e-02 -3.324559e-02 -3.317903e-02   \n50%   -3.819065e-03 -6.584468e-03 -2.592262e-03 -1.947171e-03 -1.077698e-03   \n75%    2.984439e-02  2.931150e-02  3.430886e-02  3.243232e-02  2.791705e-02   \nmax    1.987880e-01  1.811791e-01  1.852344e-01  1.335973e-01  1.356118e-01   \n\n           result  \ncount  442.000000  \nmean   152.133484  \nstd     77.093005  \nmin     25.000000  \n25%     87.000000  \n50%    140.500000  \n75%    211.500000  \nmax    346.000000  ",
      "text/html": "<div>\n<style scoped>\n    .dataframe tbody tr th:only-of-type {\n        vertical-align: middle;\n    }\n\n    .dataframe tbody tr th {\n        vertical-align: top;\n    }\n\n    .dataframe thead th {\n        text-align: right;\n    }\n</style>\n<table border=\"1\" class=\"dataframe\">\n  <thead>\n    <tr style=\"text-align: right;\">\n      <th></th>\n      <th>age</th>\n      <th>sex</th>\n      <th>bmi</th>\n      <th>bp</th>\n      <th>s1</th>\n      <th>s2</th>\n      <th>s3</th>\n      <th>s4</th>\n      <th>s5</th>\n      <th>s6</th>\n      <th>result</th>\n    </tr>\n  </thead>\n  <tbody>\n    <tr>\n      <th>count</th>\n      <td>4.420000e+02</td>\n      <td>4.420000e+02</td>\n      <td>4.420000e+02</td>\n      <td>4.420000e+02</td>\n      <td>4.420000e+02</td>\n      <td>4.420000e+02</td>\n      <td>4.420000e+02</td>\n      <td>4.420000e+02</td>\n      <td>4.420000e+02</td>\n      <td>4.420000e+02</td>\n      <td>442.000000</td>\n    </tr>\n    <tr>\n      <th>mean</th>\n      <td>-2.511817e-19</td>\n      <td>1.230790e-17</td>\n      <td>-2.245564e-16</td>\n      <td>-4.797570e-17</td>\n      <td>-1.381499e-17</td>\n      <td>3.918434e-17</td>\n      <td>-5.777179e-18</td>\n      <td>-9.042540e-18</td>\n      <td>9.293722e-17</td>\n      <td>1.130318e-17</td>\n      <td>152.133484</td>\n    </tr>\n    <tr>\n      <th>std</th>\n      <td>4.761905e-02</td>\n      <td>4.761905e-02</td>\n      <td>4.761905e-02</td>\n      <td>4.761905e-02</td>\n      <td>4.761905e-02</td>\n      <td>4.761905e-02</td>\n      <td>4.761905e-02</td>\n      <td>4.761905e-02</td>\n      <td>4.761905e-02</td>\n      <td>4.761905e-02</td>\n      <td>77.093005</td>\n    </tr>\n    <tr>\n      <th>min</th>\n      <td>-1.072256e-01</td>\n      <td>-4.464164e-02</td>\n      <td>-9.027530e-02</td>\n      <td>-1.123988e-01</td>\n      <td>-1.267807e-01</td>\n      <td>-1.156131e-01</td>\n      <td>-1.023071e-01</td>\n      <td>-7.639450e-02</td>\n      <td>-1.260971e-01</td>\n      <td>-1.377672e-01</td>\n      <td>25.000000</td>\n    </tr>\n    <tr>\n      <th>25%</th>\n      <td>-3.729927e-02</td>\n      <td>-4.464164e-02</td>\n      <td>-3.422907e-02</td>\n      <td>-3.665608e-02</td>\n      <td>-3.424784e-02</td>\n      <td>-3.035840e-02</td>\n      <td>-3.511716e-02</td>\n      <td>-3.949338e-02</td>\n      <td>-3.324559e-02</td>\n      <td>-3.317903e-02</td>\n      <td>87.000000</td>\n    </tr>\n    <tr>\n      <th>50%</th>\n      <td>5.383060e-03</td>\n      <td>-4.464164e-02</td>\n      <td>-7.283766e-03</td>\n      <td>-5.670422e-03</td>\n      <td>-4.320866e-03</td>\n      <td>-3.819065e-03</td>\n      <td>-6.584468e-03</td>\n      <td>-2.592262e-03</td>\n      <td>-1.947171e-03</td>\n      <td>-1.077698e-03</td>\n      <td>140.500000</td>\n    </tr>\n    <tr>\n      <th>75%</th>\n      <td>3.807591e-02</td>\n      <td>5.068012e-02</td>\n      <td>3.124802e-02</td>\n      <td>3.564379e-02</td>\n      <td>2.835801e-02</td>\n      <td>2.984439e-02</td>\n      <td>2.931150e-02</td>\n      <td>3.430886e-02</td>\n      <td>3.243232e-02</td>\n      <td>2.791705e-02</td>\n      <td>211.500000</td>\n    </tr>\n    <tr>\n      <th>max</th>\n      <td>1.107267e-01</td>\n      <td>5.068012e-02</td>\n      <td>1.705552e-01</td>\n      <td>1.320436e-01</td>\n      <td>1.539137e-01</td>\n      <td>1.987880e-01</td>\n      <td>1.811791e-01</td>\n      <td>1.852344e-01</td>\n      <td>1.335973e-01</td>\n      <td>1.356118e-01</td>\n      <td>346.000000</td>\n    </tr>\n  </tbody>\n</table>\n</div>"
     },
     "execution_count": 14,
     "metadata": {},
     "output_type": "execute_result"
    }
   ],
   "source": [
    "show_data.describe()"
   ],
   "metadata": {
    "collapsed": false,
    "ExecuteTime": {
     "end_time": "2024-08-14T01:21:31.197029700Z",
     "start_time": "2024-08-14T01:21:31.142069700Z"
    }
   },
   "execution_count": 14
  },
  {
   "cell_type": "markdown",
   "source": [],
   "metadata": {
    "collapsed": false
   }
  },
  {
   "cell_type": "markdown",
   "metadata": {},
   "source": [
    "# 2. Model fitting"
   ]
  },
  {
   "cell_type": "code",
   "outputs": [],
   "source": [
    "from sklearn.model_selection import train_test_split\n",
    "X_train, X_test, y_train, y_test = train_test_split(X, y, test_size=0.2, shuffle=True, random_state=23)"
   ],
   "metadata": {
    "collapsed": false,
    "ExecuteTime": {
     "end_time": "2024-08-16T18:50:56.469946800Z",
     "start_time": "2024-08-16T18:50:56.220447900Z"
    }
   },
   "execution_count": 3
  },
  {
   "cell_type": "code",
   "outputs": [],
   "source": [
    "from sklearn.model_selection import GridSearchCV\n",
    "from sklearn.naive_bayes import GaussianNB\n",
    "from sklearn.discriminant_analysis import LinearDiscriminantAnalysis\n",
    "from sklearn.discriminant_analysis import QuadraticDiscriminantAnalysis\n",
    "from sklearn.linear_model import LogisticRegression\n",
    "from sklearn.tree import DecisionTreeClassifier\n",
    "from sklearn.ensemble import RandomForestClassifier\n",
    "from sklearn.ensemble import AdaBoostClassifier\n",
    "from sklearn.ensemble import GradientBoostingClassifier\n",
    "from sklearn.neighbors import KNeighborsClassifier"
   ],
   "metadata": {
    "collapsed": false,
    "ExecuteTime": {
     "end_time": "2024-08-16T18:50:58.167656400Z",
     "start_time": "2024-08-16T18:50:57.140514100Z"
    }
   },
   "execution_count": 4
  },
  {
   "cell_type": "markdown",
   "source": [],
   "metadata": {
    "collapsed": false
   }
  },
  {
   "cell_type": "markdown",
   "source": [
    "**PERCEPTRON**"
   ],
   "metadata": {
    "collapsed": false
   }
  },
  {
   "cell_type": "code",
   "outputs": [],
   "source": [
    "def perceptron(X, y, margin=0.1, learning_rate=1.0, max_iters=200):\n",
    "    N, D = X.shape\n",
    "    Y = np.unique(y)\n",
    "    C = Y.size\n",
    "    weights = np.zeros((1+D, C))\n",
    "    \n",
    "    for iteration in range(1, max_iters + 1):\n",
    "        errors = 0\n",
    "        \n",
    "        for n in range(N):\n",
    "            xn = np.array([1, *X[n, :]])\n",
    "            cn = np.squeeze(np.where(Y==y[n]))\n",
    "            gn = weights[:,cn].T @ xn\n",
    "            err = False\n",
    "            \n",
    "            for c in np.arange(C):\n",
    "                if c != cn and weights[:,c].T @ xn + margin >= gn:\n",
    "                    weights[:, c] = weights[:, c] - learning_rate*xn; err = True\n",
    "            if err:\n",
    "                weights[:, cn] = weights[:, cn] + learning_rate*xn\n",
    "                errors = errors + 1\n",
    "                \n",
    "        if errors == 0:\n",
    "            break\n",
    "\n",
    "    return weights"
   ],
   "metadata": {
    "collapsed": false,
    "ExecuteTime": {
     "end_time": "2024-08-14T03:41:19.612549900Z",
     "start_time": "2024-08-14T03:41:19.591507200Z"
    }
   },
   "execution_count": 18
  },
  {
   "cell_type": "code",
   "outputs": [
    {
     "name": "stdout",
     "output_type": "stream",
     "text": [
      "Accuracy: 12.0% with margin 0.1, learning rate 0.5 and 200 maximum iterations\n",
      "24min 25s ± 0 ns per loop (mean ± std. dev. of 1 run, 1 loop each)\n"
     ]
    }
   ],
   "source": [
    "%%timeit -n1 -r1\n",
    "\n",
    "best_precision = 0\n",
    "best_params = [0,0,0]\n",
    "\n",
    "for margin in (0.1, 0.3, 0.5):\n",
    "    for learning_rate in (0.1, 0.5, 1):\n",
    "        for max_iters in (100, 200):\n",
    "            W = perceptron(X_train, y_train, margin, learning_rate, max_iters)\n",
    "\n",
    "            X_testh = np.hstack([np.ones((len(X_test), 1)), X_test])\n",
    "            y_test_pred  = np.argmax(X_testh @ W, axis=1).reshape(-1, 1)\n",
    "            err_test = np.count_nonzero(y_test_pred != y_test) / len(X_test)\n",
    "            precision = 100 - err_test\n",
    "            \n",
    "            if precision > best_precision:\n",
    "                best_precision = precision\n",
    "                best_params = [margin, learning_rate, max_iters]\n",
    "\n",
    "print(f'Accuracy: {best_precision:.1f}% with margin {best_params[0]}, learning rate {best_params[1]} and {best_params[2]} maximum iterations')"
   ],
   "metadata": {
    "collapsed": false,
    "ExecuteTime": {
     "end_time": "2024-08-14T05:10:41.290820500Z",
     "start_time": "2024-08-14T04:46:15.518580800Z"
    }
   },
   "execution_count": 21
  },
  {
   "cell_type": "markdown",
   "source": [
    "**NAIVE BAYES** "
   ],
   "metadata": {
    "collapsed": false
   }
  },
  {
   "cell_type": "code",
   "outputs": [
    {
     "name": "stdout",
     "output_type": "stream",
     "text": [
      "Accuracy: 1.1% con {'var_smoothing': 0.1}\n",
      "1.52 s ± 0 ns per loop (mean ± std. dev. of 1 run, 1 loop each)\n"
     ]
    }
   ],
   "source": [
    "%%timeit -n1 -r1\n",
    "\n",
    "import warnings; warnings.filterwarnings('ignore')\n",
    "\n",
    "nb = GaussianNB()\n",
    "\n",
    "Gnb = {\"var_smoothing\": [1e-9, 0.001, 0.01, 0.1, 0.3, 0.5, 0.7, 0.9]}\n",
    "GSnb = GridSearchCV(nb, Gnb, scoring='accuracy', refit=True, cv=5)\n",
    "\n",
    "acc = GSnb.fit(X_train, y_train).score(X_test, y_test)\n",
    "print(f'Accuracy: {acc:.1%} con {GSnb.best_params_}')"
   ],
   "metadata": {
    "collapsed": false,
    "ExecuteTime": {
     "end_time": "2024-08-14T05:37:48.777805200Z",
     "start_time": "2024-08-14T05:37:47.244334400Z"
    }
   },
   "execution_count": 29
  },
  {
   "cell_type": "markdown",
   "source": [
    "**LINEAR DISCRIMINANT ANALYSIS**"
   ],
   "metadata": {
    "collapsed": false
   }
  },
  {
   "cell_type": "code",
   "outputs": [
    {
     "name": "stdout",
     "output_type": "stream",
     "text": [
      "Accuracy: 1.1% con {'n_components': 1, 'solver': 'svd', 'tol': 0.9}\n",
      "7.96 s ± 0 ns per loop (mean ± std. dev. of 1 run, 1 loop each)\n"
     ]
    }
   ],
   "source": [
    "%%timeit -n1 -r1\n",
    "lda = LinearDiscriminantAnalysis()\n",
    "\n",
    "Glda = {\"solver\": ['svd', 'lsqr', 'eigen'], \"n_components\": [1,2], \"tol\": [1e-5, 1e-4, 0.001, 0.01, 0.1, 0.3, 0.5, 0.7, 0.9]}\n",
    "GSlda = GridSearchCV(lda, Glda, scoring='accuracy', refit=True, cv=5)\n",
    "\n",
    "acc = GSlda.fit(X_train, y_train).score(X_test, y_test)\n",
    "print(f'Accuracy: {acc:.1%} con {GSlda.best_params_}')"
   ],
   "metadata": {
    "collapsed": false,
    "ExecuteTime": {
     "end_time": "2024-08-14T05:38:00.090675400Z",
     "start_time": "2024-08-14T05:37:52.113264400Z"
    }
   },
   "execution_count": 30
  },
  {
   "cell_type": "markdown",
   "source": [
    "**LOGISTIC REGRESSION**"
   ],
   "metadata": {
    "collapsed": false
   }
  },
  {
   "cell_type": "code",
   "outputs": [
    {
     "name": "stdout",
     "output_type": "stream",
     "text": [
      "Accuracy: 0.0% con {'C': 100, 'max_iter': 10, 'multi_class': 'auto', 'n_jobs': 1, 'penalty': 'l2', 'solver': 'lbfgs', 'tol': 0.001}\n",
      "12min 42s ± 0 ns per loop (mean ± std. dev. of 1 run, 1 loop each)\n"
     ]
    }
   ],
   "source": [
    "%%timeit -n1 -r1\n",
    "\n",
    "log_reg = LogisticRegression(random_state=23)\n",
    "\n",
    "Glogreg = {\"penalty\": ['l1', 'l2', None], \"tol\": [0.001, 0.01, 0.1], \"solver\": ['lbfgs', 'liblinear', 'newton-cg'], \"multi_class\": ['auto', 'multinomial'], \"max_iter\": [10, 25], \"n_jobs\": [1,2,4], \"C\": [0.1, 1, 10, 100]}\n",
    "GSlogreg = GridSearchCV(log_reg, Glogreg, scoring='accuracy', refit=True, cv=5)\n",
    "\n",
    "acc = GSlogreg.fit(X_train, y_train).score(X_test, y_test)\n",
    "print(f'Accuracy: {acc:.1%} con {GSlogreg.best_params_}')"
   ],
   "metadata": {
    "collapsed": false,
    "ExecuteTime": {
     "end_time": "2024-08-14T06:38:06.568729900Z",
     "start_time": "2024-08-14T06:25:24.492449100Z"
    }
   },
   "execution_count": 33
  },
  {
   "cell_type": "markdown",
   "source": [
    "**DECISION TREE CLASSIFIER**"
   ],
   "metadata": {
    "collapsed": false
   }
  },
  {
   "cell_type": "code",
   "outputs": [
    {
     "name": "stdout",
     "output_type": "stream",
     "text": [
      "Accuracy: 0.0% con {'criterion': 'entropy', 'max_depth': 10, 'min_samples_split': 3}\n",
      "8.24 s ± 0 ns per loop (mean ± std. dev. of 1 run, 1 loop each)\n"
     ]
    }
   ],
   "source": [
    "%%timeit -n1 -r1\n",
    "\n",
    "dtc = DecisionTreeClassifier(random_state=23)\n",
    "\n",
    "Gdtc = {\"criterion\": ['gini', 'entropy', 'log_loss'], \"max_depth\": [1,3,5,7,10,20], \"min_samples_split\": [2,3,4,5]}\n",
    "GSdtc = GridSearchCV(dtc, Gdtc, scoring='accuracy', refit=True, cv=5)\n",
    "\n",
    "acc = GSdtc.fit(X_train, y_train).score(X_test, y_test)\n",
    "print(f'Accuracy: {acc:.1%} con {GSdtc.best_params_}')"
   ],
   "metadata": {
    "collapsed": false,
    "ExecuteTime": {
     "end_time": "2024-08-14T06:41:16.164317600Z",
     "start_time": "2024-08-14T06:41:07.905976700Z"
    }
   },
   "execution_count": 34
  },
  {
   "cell_type": "markdown",
   "source": [
    "**RANDOM FOREST**"
   ],
   "metadata": {
    "collapsed": false
   }
  },
  {
   "cell_type": "code",
   "outputs": [
    {
     "name": "stdout",
     "output_type": "stream",
     "text": [
      "Accuracy: 0.0% con {'bootstrap': False, 'criterion': 'entropy', 'max_depth': 10, 'min_samples_split': 4, 'n_estimators': 50}\n",
      "6min 14s ± 0 ns per loop (mean ± std. dev. of 1 run, 1 loop each)\n"
     ]
    }
   ],
   "source": [
    "%%timeit -n1 -r1\n",
    "\n",
    "rfc = RandomForestClassifier(random_state=23)\n",
    "\n",
    "Grfc = {\"n_estimators\": [1,5,10,25,50], \"criterion\": ['gini', 'entropy', 'log_loss'], \"bootstrap\": [True,False], \"max_depth\": [1,3,5,7,10,20], \"min_samples_split\": [2,3,4,5]}\n",
    "GSrfc = GridSearchCV(rfc, Grfc, scoring='accuracy', refit=True, cv=5)\n",
    "\n",
    "acc = GSrfc.fit(X_train, y_train).score(X_test, y_test)\n",
    "print(f'Accuracy: {acc:.1%} con {GSrfc.best_params_}')"
   ],
   "metadata": {
    "collapsed": false,
    "ExecuteTime": {
     "end_time": "2024-08-14T06:47:54.337129800Z",
     "start_time": "2024-08-14T06:41:39.707402700Z"
    }
   },
   "execution_count": 35
  },
  {
   "cell_type": "markdown",
   "source": [
    "**ADABOOST CLASSIFIER**"
   ],
   "metadata": {
    "collapsed": false
   }
  },
  {
   "cell_type": "code",
   "outputs": [
    {
     "name": "stdout",
     "output_type": "stream",
     "text": [
      "Accuracy: 0.0% con {'learning_rate': 0.01, 'n_estimators': 100}\n",
      "43.8 s ± 0 ns per loop (mean ± std. dev. of 1 run, 1 loop each)\n"
     ]
    }
   ],
   "source": [
    "%%timeit -n1 -r1\n",
    "\n",
    "abc = AdaBoostClassifier(random_state=23)\n",
    "\n",
    "Gabc = {\"n_estimators\": [2,5,10,20,50,100], \"learning_rate\": [0.01,0.1,0.3,0.5,0.7,0.9,0.99,1]}\n",
    "GSabc = GridSearchCV(abc, Gabc, scoring='accuracy', refit=True, cv=5)\n",
    "\n",
    "acc = (GSabc.fit(X_train, y_train).score(X_test, y_test))\n",
    "print(f'Accuracy: {acc:.1%} con {GSabc.best_params_}')"
   ],
   "metadata": {
    "collapsed": false,
    "ExecuteTime": {
     "end_time": "2024-08-14T06:48:44.086414200Z",
     "start_time": "2024-08-14T06:48:00.248289Z"
    }
   },
   "execution_count": 36
  },
  {
   "cell_type": "markdown",
   "source": [
    "**GRADIENT BOOSTING CLASSIFIER**"
   ],
   "metadata": {
    "collapsed": false
   }
  },
  {
   "cell_type": "code",
   "outputs": [
    {
     "name": "stdout",
     "output_type": "stream",
     "text": [
      "Accuracy: 0.0% con {'criterion': 'friedman_mse', 'learning_rate': 0.25, 'max_depth': 5, 'min_samples_split': 2, 'n_estimators': 2}\n",
      "55min 32s ± 0 ns per loop (mean ± std. dev. of 1 run, 1 loop each)\n"
     ]
    }
   ],
   "source": [
    "%%timeit -n1 -r1\n",
    "\n",
    "import warnings; warnings.filterwarnings('ignore')\n",
    "\n",
    "gbc = GradientBoostingClassifier(random_state=23)\n",
    "\n",
    "Ggbc = {\"n_estimators\": [2,5,10,20], \"learning_rate\": [0.25,0.5,0.75], \"criterion\": ['friedman_mse', 'squared_error'], \"max_depth\": [1,5,10], \"min_samples_split\": [2,3,4]}\n",
    "GSgbc = GridSearchCV(gbc, Ggbc, scoring='accuracy', refit=True, cv=5)\n",
    "\n",
    "acc = (GSgbc.fit(X_train, y_train).score(X_test, y_test))\n",
    "print(f'Accuracy: {acc:.1%} con {GSgbc.best_params_}')"
   ],
   "metadata": {
    "collapsed": false,
    "ExecuteTime": {
     "end_time": "2024-08-16T19:47:17.363624300Z",
     "start_time": "2024-08-16T18:51:44.371825200Z"
    }
   },
   "execution_count": 6
  },
  {
   "cell_type": "markdown",
   "source": [
    "**KNEIGHBORS CLASSIFIER**"
   ],
   "metadata": {
    "collapsed": false
   }
  },
  {
   "cell_type": "code",
   "outputs": [
    {
     "name": "stdout",
     "output_type": "stream",
     "text": [
      "Accuracy: 0.0% con {'leaf_size': 5, 'n_neighbors': 1, 'p': 1, 'weights': 'uniform'}\n",
      "10.6 s ± 0 ns per loop (mean ± std. dev. of 1 run, 1 loop each)\n"
     ]
    }
   ],
   "source": [
    "%%timeit -n1 -r1\n",
    "\n",
    "knc = KNeighborsClassifier()\n",
    "\n",
    "Gknc = {'n_neighbors': [1,2,5,10,20], 'weights':['uniform', 'distance'], 'leaf_size': [5,10,20,30,50], 'p': [1,2,3,4,5]}\n",
    "GSknc = GridSearchCV(knc, Gknc, scoring='accuracy', refit=True, cv=5)\n",
    "\n",
    "acc = (GSknc.fit(X_train, y_train).score(X_test, y_test))\n",
    "print(f'Accuracy: {acc:.1%} con {GSknc.best_params_}')"
   ],
   "metadata": {
    "collapsed": false,
    "ExecuteTime": {
     "end_time": "2024-08-16T19:52:37.723307400Z",
     "start_time": "2024-08-16T19:52:27.109191300Z"
    }
   },
   "execution_count": 7
  }
 ],
 "metadata": {
  "kernelspec": {
   "display_name": "Python 3",
   "language": "python",
   "name": "python3"
  },
  "language_info": {
   "codemirror_mode": {
    "name": "ipython",
    "version": 3
   },
   "file_extension": ".py",
   "mimetype": "text/x-python",
   "name": "python",
   "nbconvert_exporter": "python",
   "pygments_lexer": "ipython3",
   "version": "3.10.12"
  }
 },
 "nbformat": 4,
 "nbformat_minor": 2
}
