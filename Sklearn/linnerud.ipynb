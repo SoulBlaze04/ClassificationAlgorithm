{
 "cells": [
  {
   "cell_type": "markdown",
   "metadata": {},
   "source": [
    "# Dataset: load_linnerud"
   ]
  },
  {
   "cell_type": "markdown",
   "metadata": {},
   "source": [
    "## 1. Dataset analysis"
   ]
  },
  {
   "cell_type": "code",
   "outputs": [],
   "source": [
    "from sklearn.datasets import load_linnerud\n",
    "import pandas as pandas\n",
    "import seaborn as seaborn\n",
    "import matplotlib.pyplot as matplot\n",
    "import numpy as np"
   ],
   "metadata": {
    "collapsed": false,
    "ExecuteTime": {
     "end_time": "2024-08-18T00:18:54.123245Z",
     "start_time": "2024-08-18T00:18:52.867035100Z"
    }
   },
   "execution_count": 2
  },
  {
   "cell_type": "code",
   "outputs": [
    {
     "name": "stdout",
     "output_type": "stream",
     "text": [
      "BRIEF DESCRIPTION OF THE DATASET: \n",
      ".. _linnerrud_dataset:\n",
      "\n",
      "Linnerrud dataset\n",
      "-----------------\n",
      "\n",
      "**Data Set Characteristics:**\n",
      "\n",
      "    :Number of Instances: 20\n",
      "    :Number of Attributes: 3\n",
      "    :Missing Attribute Values: None\n",
      "\n",
      "The Linnerud dataset is a multi-output regression dataset. It consists of three\n",
      "exercise (data) and three physiological (target) variables collected from\n",
      "twenty middle-aged men in a fitness club:\n",
      "\n",
      "- *physiological* - CSV containing 20 observations on 3 physiological variables:\n",
      "   Weight, Waist and Pulse.\n",
      "- *exercise* - CSV containing 20 observations on 3 exercise variables:\n",
      "   Chins, Situps and Jumps.\n",
      "\n",
      "|details-start|\n",
      "**References**\n",
      "|details-split|\n",
      "\n",
      "* Tenenhaus, M. (1998). La regression PLS: theorie et pratique. Paris:\n",
      "  Editions Technic.\n",
      "\n",
      "|details-end|\n",
      "\n",
      "ATTRIBUTES: \n",
      "['DESCR', 'data', 'data_filename', 'data_module', 'feature_names', 'frame', 'target', 'target_filename', 'target_names']\n",
      "\n",
      "DATA:\n"
     ]
    },
    {
     "data": {
      "text/plain": "    Chins  Situps  Jumps  Weight  Waist  Pulse\n0     5.0   162.0   60.0   191.0   36.0   50.0\n1     2.0   110.0   60.0   189.0   37.0   52.0\n2    12.0   101.0  101.0   193.0   38.0   58.0\n3    12.0   105.0   37.0   162.0   35.0   62.0\n4    13.0   155.0   58.0   189.0   35.0   46.0\n5     4.0   101.0   42.0   182.0   36.0   56.0\n6     8.0   101.0   38.0   211.0   38.0   56.0\n7     6.0   125.0   40.0   167.0   34.0   60.0\n8    15.0   200.0   40.0   176.0   31.0   74.0\n9    17.0   251.0  250.0   154.0   33.0   56.0\n10   17.0   120.0   38.0   169.0   34.0   50.0\n11   13.0   210.0  115.0   166.0   33.0   52.0\n12   14.0   215.0  105.0   154.0   34.0   64.0\n13    1.0    50.0   50.0   247.0   46.0   50.0\n14    6.0    70.0   31.0   193.0   36.0   46.0\n15   12.0   210.0  120.0   202.0   37.0   62.0\n16    4.0    60.0   25.0   176.0   37.0   54.0\n17   11.0   230.0   80.0   157.0   32.0   52.0\n18   15.0   225.0   73.0   156.0   33.0   54.0\n19    2.0   110.0   43.0   138.0   33.0   68.0",
      "text/html": "<div>\n<style scoped>\n    .dataframe tbody tr th:only-of-type {\n        vertical-align: middle;\n    }\n\n    .dataframe tbody tr th {\n        vertical-align: top;\n    }\n\n    .dataframe thead th {\n        text-align: right;\n    }\n</style>\n<table border=\"1\" class=\"dataframe\">\n  <thead>\n    <tr style=\"text-align: right;\">\n      <th></th>\n      <th>Chins</th>\n      <th>Situps</th>\n      <th>Jumps</th>\n      <th>Weight</th>\n      <th>Waist</th>\n      <th>Pulse</th>\n    </tr>\n  </thead>\n  <tbody>\n    <tr>\n      <th>0</th>\n      <td>5.0</td>\n      <td>162.0</td>\n      <td>60.0</td>\n      <td>191.0</td>\n      <td>36.0</td>\n      <td>50.0</td>\n    </tr>\n    <tr>\n      <th>1</th>\n      <td>2.0</td>\n      <td>110.0</td>\n      <td>60.0</td>\n      <td>189.0</td>\n      <td>37.0</td>\n      <td>52.0</td>\n    </tr>\n    <tr>\n      <th>2</th>\n      <td>12.0</td>\n      <td>101.0</td>\n      <td>101.0</td>\n      <td>193.0</td>\n      <td>38.0</td>\n      <td>58.0</td>\n    </tr>\n    <tr>\n      <th>3</th>\n      <td>12.0</td>\n      <td>105.0</td>\n      <td>37.0</td>\n      <td>162.0</td>\n      <td>35.0</td>\n      <td>62.0</td>\n    </tr>\n    <tr>\n      <th>4</th>\n      <td>13.0</td>\n      <td>155.0</td>\n      <td>58.0</td>\n      <td>189.0</td>\n      <td>35.0</td>\n      <td>46.0</td>\n    </tr>\n    <tr>\n      <th>5</th>\n      <td>4.0</td>\n      <td>101.0</td>\n      <td>42.0</td>\n      <td>182.0</td>\n      <td>36.0</td>\n      <td>56.0</td>\n    </tr>\n    <tr>\n      <th>6</th>\n      <td>8.0</td>\n      <td>101.0</td>\n      <td>38.0</td>\n      <td>211.0</td>\n      <td>38.0</td>\n      <td>56.0</td>\n    </tr>\n    <tr>\n      <th>7</th>\n      <td>6.0</td>\n      <td>125.0</td>\n      <td>40.0</td>\n      <td>167.0</td>\n      <td>34.0</td>\n      <td>60.0</td>\n    </tr>\n    <tr>\n      <th>8</th>\n      <td>15.0</td>\n      <td>200.0</td>\n      <td>40.0</td>\n      <td>176.0</td>\n      <td>31.0</td>\n      <td>74.0</td>\n    </tr>\n    <tr>\n      <th>9</th>\n      <td>17.0</td>\n      <td>251.0</td>\n      <td>250.0</td>\n      <td>154.0</td>\n      <td>33.0</td>\n      <td>56.0</td>\n    </tr>\n    <tr>\n      <th>10</th>\n      <td>17.0</td>\n      <td>120.0</td>\n      <td>38.0</td>\n      <td>169.0</td>\n      <td>34.0</td>\n      <td>50.0</td>\n    </tr>\n    <tr>\n      <th>11</th>\n      <td>13.0</td>\n      <td>210.0</td>\n      <td>115.0</td>\n      <td>166.0</td>\n      <td>33.0</td>\n      <td>52.0</td>\n    </tr>\n    <tr>\n      <th>12</th>\n      <td>14.0</td>\n      <td>215.0</td>\n      <td>105.0</td>\n      <td>154.0</td>\n      <td>34.0</td>\n      <td>64.0</td>\n    </tr>\n    <tr>\n      <th>13</th>\n      <td>1.0</td>\n      <td>50.0</td>\n      <td>50.0</td>\n      <td>247.0</td>\n      <td>46.0</td>\n      <td>50.0</td>\n    </tr>\n    <tr>\n      <th>14</th>\n      <td>6.0</td>\n      <td>70.0</td>\n      <td>31.0</td>\n      <td>193.0</td>\n      <td>36.0</td>\n      <td>46.0</td>\n    </tr>\n    <tr>\n      <th>15</th>\n      <td>12.0</td>\n      <td>210.0</td>\n      <td>120.0</td>\n      <td>202.0</td>\n      <td>37.0</td>\n      <td>62.0</td>\n    </tr>\n    <tr>\n      <th>16</th>\n      <td>4.0</td>\n      <td>60.0</td>\n      <td>25.0</td>\n      <td>176.0</td>\n      <td>37.0</td>\n      <td>54.0</td>\n    </tr>\n    <tr>\n      <th>17</th>\n      <td>11.0</td>\n      <td>230.0</td>\n      <td>80.0</td>\n      <td>157.0</td>\n      <td>32.0</td>\n      <td>52.0</td>\n    </tr>\n    <tr>\n      <th>18</th>\n      <td>15.0</td>\n      <td>225.0</td>\n      <td>73.0</td>\n      <td>156.0</td>\n      <td>33.0</td>\n      <td>54.0</td>\n    </tr>\n    <tr>\n      <th>19</th>\n      <td>2.0</td>\n      <td>110.0</td>\n      <td>43.0</td>\n      <td>138.0</td>\n      <td>33.0</td>\n      <td>68.0</td>\n    </tr>\n  </tbody>\n</table>\n</div>"
     },
     "execution_count": 14,
     "metadata": {},
     "output_type": "execute_result"
    }
   ],
   "source": [
    "linnerud = load_linnerud()\n",
    "print(\"BRIEF DESCRIPTION OF THE DATASET: \")\n",
    "print(linnerud.DESCR)\n",
    "print()\n",
    "\n",
    "print(\"ATTRIBUTES: \")\n",
    "print(dir(linnerud))\n",
    "print()\n",
    "\n",
    "X = linnerud.data\n",
    "y = linnerud.target\n",
    "fn = linnerud.feature_names\n",
    "tn = linnerud.target_names\n",
    "\n",
    "print(\"DATA:\")\n",
    "show_data_X = pandas.DataFrame(data=X, columns=fn)\n",
    "show_data_y = pandas.DataFrame(data=y, columns=tn)\n",
    "frames = [show_data_X, show_data_y]\n",
    "show_data = pandas.concat(frames, axis=1)\n",
    "show_data"
   ],
   "metadata": {
    "collapsed": false,
    "ExecuteTime": {
     "end_time": "2024-08-18T00:26:41.474798200Z",
     "start_time": "2024-08-18T00:26:41.457286500Z"
    }
   },
   "execution_count": 14
  },
  {
   "cell_type": "markdown",
   "source": [],
   "metadata": {
    "collapsed": false
   }
  },
  {
   "cell_type": "markdown",
   "source": [
    "**Further data analysis**"
   ],
   "metadata": {
    "collapsed": false
   }
  },
  {
   "cell_type": "code",
   "outputs": [
    {
     "data": {
      "text/plain": "           Chins      Situps      Jumps      Weight      Waist      Pulse\ncount  20.000000   20.000000   20.00000   20.000000  20.000000  20.000000\nmean    9.450000  145.550000   70.30000  178.600000  35.400000  56.100000\nstd     5.286278   62.566575   51.27747   24.690505   3.201973   7.210373\nmin     1.000000   50.000000   25.00000  138.000000  31.000000  46.000000\n25%     4.750000  101.000000   39.50000  160.750000  33.000000  51.500000\n50%    11.500000  122.500000   54.00000  176.000000  35.000000  55.000000\n75%    13.250000  210.000000   85.25000  191.500000  37.000000  60.500000\nmax    17.000000  251.000000  250.00000  247.000000  46.000000  74.000000",
      "text/html": "<div>\n<style scoped>\n    .dataframe tbody tr th:only-of-type {\n        vertical-align: middle;\n    }\n\n    .dataframe tbody tr th {\n        vertical-align: top;\n    }\n\n    .dataframe thead th {\n        text-align: right;\n    }\n</style>\n<table border=\"1\" class=\"dataframe\">\n  <thead>\n    <tr style=\"text-align: right;\">\n      <th></th>\n      <th>Chins</th>\n      <th>Situps</th>\n      <th>Jumps</th>\n      <th>Weight</th>\n      <th>Waist</th>\n      <th>Pulse</th>\n    </tr>\n  </thead>\n  <tbody>\n    <tr>\n      <th>count</th>\n      <td>20.000000</td>\n      <td>20.000000</td>\n      <td>20.00000</td>\n      <td>20.000000</td>\n      <td>20.000000</td>\n      <td>20.000000</td>\n    </tr>\n    <tr>\n      <th>mean</th>\n      <td>9.450000</td>\n      <td>145.550000</td>\n      <td>70.30000</td>\n      <td>178.600000</td>\n      <td>35.400000</td>\n      <td>56.100000</td>\n    </tr>\n    <tr>\n      <th>std</th>\n      <td>5.286278</td>\n      <td>62.566575</td>\n      <td>51.27747</td>\n      <td>24.690505</td>\n      <td>3.201973</td>\n      <td>7.210373</td>\n    </tr>\n    <tr>\n      <th>min</th>\n      <td>1.000000</td>\n      <td>50.000000</td>\n      <td>25.00000</td>\n      <td>138.000000</td>\n      <td>31.000000</td>\n      <td>46.000000</td>\n    </tr>\n    <tr>\n      <th>25%</th>\n      <td>4.750000</td>\n      <td>101.000000</td>\n      <td>39.50000</td>\n      <td>160.750000</td>\n      <td>33.000000</td>\n      <td>51.500000</td>\n    </tr>\n    <tr>\n      <th>50%</th>\n      <td>11.500000</td>\n      <td>122.500000</td>\n      <td>54.00000</td>\n      <td>176.000000</td>\n      <td>35.000000</td>\n      <td>55.000000</td>\n    </tr>\n    <tr>\n      <th>75%</th>\n      <td>13.250000</td>\n      <td>210.000000</td>\n      <td>85.25000</td>\n      <td>191.500000</td>\n      <td>37.000000</td>\n      <td>60.500000</td>\n    </tr>\n    <tr>\n      <th>max</th>\n      <td>17.000000</td>\n      <td>251.000000</td>\n      <td>250.00000</td>\n      <td>247.000000</td>\n      <td>46.000000</td>\n      <td>74.000000</td>\n    </tr>\n  </tbody>\n</table>\n</div>"
     },
     "execution_count": 15,
     "metadata": {},
     "output_type": "execute_result"
    }
   ],
   "source": [
    "show_data.describe()"
   ],
   "metadata": {
    "collapsed": false,
    "ExecuteTime": {
     "end_time": "2024-08-18T00:27:09.082039200Z",
     "start_time": "2024-08-18T00:27:09.060491Z"
    }
   },
   "execution_count": 15
  },
  {
   "cell_type": "markdown",
   "source": [],
   "metadata": {
    "collapsed": false
   }
  },
  {
   "cell_type": "markdown",
   "metadata": {},
   "source": [
    "# 2. Model fitting"
   ]
  },
  {
   "cell_type": "code",
   "outputs": [],
   "source": [
    "from sklearn.model_selection import train_test_split\n",
    "X_train, X_test, y_train, y_test = train_test_split(X, y, test_size=0.2, shuffle=True, random_state=23)"
   ],
   "metadata": {
    "collapsed": false,
    "ExecuteTime": {
     "end_time": "2024-08-18T00:27:17.270440500Z",
     "start_time": "2024-08-18T00:27:16.928212100Z"
    }
   },
   "execution_count": 16
  },
  {
   "cell_type": "code",
   "outputs": [],
   "source": [
    "from sklearn.model_selection import GridSearchCV\n",
    "from sklearn.naive_bayes import GaussianNB\n",
    "from sklearn.discriminant_analysis import LinearDiscriminantAnalysis\n",
    "from sklearn.discriminant_analysis import QuadraticDiscriminantAnalysis\n",
    "from sklearn.linear_model import LogisticRegression\n",
    "from sklearn.tree import DecisionTreeClassifier\n",
    "from sklearn.ensemble import RandomForestClassifier\n",
    "from sklearn.ensemble import AdaBoostClassifier\n",
    "from sklearn.ensemble import GradientBoostingClassifier\n",
    "from sklearn.neighbors import KNeighborsClassifier"
   ],
   "metadata": {
    "collapsed": false,
    "ExecuteTime": {
     "end_time": "2024-08-18T00:27:19.448064Z",
     "start_time": "2024-08-18T00:27:18.363397600Z"
    }
   },
   "execution_count": 17
  },
  {
   "cell_type": "markdown",
   "source": [],
   "metadata": {
    "collapsed": false
   }
  },
  {
   "cell_type": "markdown",
   "source": [
    "**PERCEPTRON**"
   ],
   "metadata": {
    "collapsed": false
   }
  },
  {
   "cell_type": "code",
   "outputs": [],
   "source": [
    "def perceptron(X, y, margin=0.1, learning_rate=1.0, max_iters=200):\n",
    "    N, D = X.shape\n",
    "    Y = np.unique(y)\n",
    "    C = Y.size\n",
    "    weights = np.zeros((1+D, C))\n",
    "    \n",
    "    for iteration in range(1, max_iters + 1):\n",
    "        errors = 0\n",
    "        \n",
    "        for n in range(N):\n",
    "            xn = np.array([1, *X[n, :]])\n",
    "            cn = np.squeeze(np.where(Y==y[n]))\n",
    "            gn = weights[:,cn].T @ xn\n",
    "            err = False\n",
    "            \n",
    "            for c in np.arange(C):\n",
    "                if c != cn and weights[:,c].T @ xn + margin >= gn:\n",
    "                    weights[:, c] = weights[:, c] - learning_rate*xn; err = True\n",
    "            if err:\n",
    "                weights[:, cn] = weights[:, cn] + learning_rate*xn\n",
    "                errors = errors + 1\n",
    "                \n",
    "        if errors == 0:\n",
    "            break\n",
    "\n",
    "    return weights"
   ],
   "metadata": {
    "collapsed": false,
    "ExecuteTime": {
     "end_time": "2024-08-18T00:27:20.704061400Z",
     "start_time": "2024-08-18T00:27:20.699561500Z"
    }
   },
   "execution_count": 18
  },
  {
   "cell_type": "code",
   "outputs": [
    {
     "ename": "ValueError",
     "evalue": "operands could not be broadcast together with shapes (32,) (3,) ",
     "output_type": "error",
     "traceback": [
      "\u001B[1;31m---------------------------------------------------------------------------\u001B[0m",
      "\u001B[1;31mValueError\u001B[0m                                Traceback (most recent call last)",
      "Cell \u001B[1;32mIn[19], line 1\u001B[0m\n\u001B[1;32m----> 1\u001B[0m \u001B[43mget_ipython\u001B[49m\u001B[43m(\u001B[49m\u001B[43m)\u001B[49m\u001B[38;5;241;43m.\u001B[39;49m\u001B[43mrun_cell_magic\u001B[49m\u001B[43m(\u001B[49m\u001B[38;5;124;43m'\u001B[39;49m\u001B[38;5;124;43mtimeit\u001B[39;49m\u001B[38;5;124;43m'\u001B[39;49m\u001B[43m,\u001B[49m\u001B[43m \u001B[49m\u001B[38;5;124;43m'\u001B[39;49m\u001B[38;5;124;43m-n1 -r1\u001B[39;49m\u001B[38;5;124;43m'\u001B[39;49m\u001B[43m,\u001B[49m\u001B[43m \u001B[49m\u001B[38;5;124;43m\"\u001B[39;49m\u001B[38;5;130;43;01m\\n\u001B[39;49;00m\u001B[38;5;124;43mbest_precision = 0\u001B[39;49m\u001B[38;5;130;43;01m\\n\u001B[39;49;00m\u001B[38;5;124;43mbest_params = [0,0,0]\u001B[39;49m\u001B[38;5;130;43;01m\\n\u001B[39;49;00m\u001B[38;5;130;43;01m\\n\u001B[39;49;00m\u001B[38;5;124;43mfor margin in (0.01, 0.1, 0.3, 0.5, 0.7):\u001B[39;49m\u001B[38;5;130;43;01m\\n\u001B[39;49;00m\u001B[38;5;124;43m    for learning_rate in (0.1, 0.5, 1, 2):\u001B[39;49m\u001B[38;5;130;43;01m\\n\u001B[39;49;00m\u001B[38;5;124;43m        for max_iters in (100, 200, 500, 1000):\u001B[39;49m\u001B[38;5;130;43;01m\\n\u001B[39;49;00m\u001B[38;5;124;43m            W = perceptron(X_train, y_train, margin, learning_rate, max_iters)\u001B[39;49m\u001B[38;5;130;43;01m\\n\u001B[39;49;00m\u001B[38;5;130;43;01m\\n\u001B[39;49;00m\u001B[38;5;124;43m            X_testh = np.hstack([np.ones((len(X_test), 1)), X_test])\u001B[39;49m\u001B[38;5;130;43;01m\\n\u001B[39;49;00m\u001B[38;5;124;43m            y_test_pred  = np.argmax(X_testh @ W, axis=1).reshape(-1, 1)\u001B[39;49m\u001B[38;5;130;43;01m\\n\u001B[39;49;00m\u001B[38;5;124;43m            err_test = np.count_nonzero(y_test_pred != y_test) / len(X_test)\u001B[39;49m\u001B[38;5;130;43;01m\\n\u001B[39;49;00m\u001B[38;5;124;43m            precision = 100 - err_test\u001B[39;49m\u001B[38;5;130;43;01m\\n\u001B[39;49;00m\u001B[38;5;124;43m            \u001B[39;49m\u001B[38;5;130;43;01m\\n\u001B[39;49;00m\u001B[38;5;124;43m            if precision > best_precision:\u001B[39;49m\u001B[38;5;130;43;01m\\n\u001B[39;49;00m\u001B[38;5;124;43m                best_precision = precision\u001B[39;49m\u001B[38;5;130;43;01m\\n\u001B[39;49;00m\u001B[38;5;124;43m                best_params = [margin, learning_rate, max_iters]\u001B[39;49m\u001B[38;5;130;43;01m\\n\u001B[39;49;00m\u001B[38;5;130;43;01m\\n\u001B[39;49;00m\u001B[38;5;124;43mprint(f\u001B[39;49m\u001B[38;5;124;43m'\u001B[39;49m\u001B[38;5;124;43mAccuracy: \u001B[39;49m\u001B[38;5;132;43;01m{best_precision:.1f}\u001B[39;49;00m\u001B[38;5;124;43m%\u001B[39;49m\u001B[38;5;124;43m with margin \u001B[39;49m\u001B[38;5;132;43;01m{best_params[0]}\u001B[39;49;00m\u001B[38;5;124;43m, learning rate \u001B[39;49m\u001B[38;5;132;43;01m{best_params[1]}\u001B[39;49;00m\u001B[38;5;124;43m and \u001B[39;49m\u001B[38;5;132;43;01m{best_params[2]}\u001B[39;49;00m\u001B[38;5;124;43m maximum iterations\u001B[39;49m\u001B[38;5;124;43m'\u001B[39;49m\u001B[38;5;124;43m)\u001B[39;49m\u001B[38;5;130;43;01m\\n\u001B[39;49;00m\u001B[38;5;124;43m\"\u001B[39;49m\u001B[43m)\u001B[49m\n",
      "File \u001B[1;32m~\\AppData\\Local\\Programs\\Python\\Python311\\Lib\\site-packages\\IPython\\core\\interactiveshell.py:2517\u001B[0m, in \u001B[0;36mInteractiveShell.run_cell_magic\u001B[1;34m(self, magic_name, line, cell)\u001B[0m\n\u001B[0;32m   2515\u001B[0m \u001B[38;5;28;01mwith\u001B[39;00m \u001B[38;5;28mself\u001B[39m\u001B[38;5;241m.\u001B[39mbuiltin_trap:\n\u001B[0;32m   2516\u001B[0m     args \u001B[38;5;241m=\u001B[39m (magic_arg_s, cell)\n\u001B[1;32m-> 2517\u001B[0m     result \u001B[38;5;241m=\u001B[39m \u001B[43mfn\u001B[49m\u001B[43m(\u001B[49m\u001B[38;5;241;43m*\u001B[39;49m\u001B[43margs\u001B[49m\u001B[43m,\u001B[49m\u001B[43m \u001B[49m\u001B[38;5;241;43m*\u001B[39;49m\u001B[38;5;241;43m*\u001B[39;49m\u001B[43mkwargs\u001B[49m\u001B[43m)\u001B[49m\n\u001B[0;32m   2519\u001B[0m \u001B[38;5;66;03m# The code below prevents the output from being displayed\u001B[39;00m\n\u001B[0;32m   2520\u001B[0m \u001B[38;5;66;03m# when using magics with decorator @output_can_be_silenced\u001B[39;00m\n\u001B[0;32m   2521\u001B[0m \u001B[38;5;66;03m# when the last Python token in the expression is a ';'.\u001B[39;00m\n\u001B[0;32m   2522\u001B[0m \u001B[38;5;28;01mif\u001B[39;00m \u001B[38;5;28mgetattr\u001B[39m(fn, magic\u001B[38;5;241m.\u001B[39mMAGIC_OUTPUT_CAN_BE_SILENCED, \u001B[38;5;28;01mFalse\u001B[39;00m):\n",
      "File \u001B[1;32m~\\AppData\\Local\\Programs\\Python\\Python311\\Lib\\site-packages\\IPython\\core\\magics\\execution.py:1189\u001B[0m, in \u001B[0;36mExecutionMagics.timeit\u001B[1;34m(self, line, cell, local_ns)\u001B[0m\n\u001B[0;32m   1186\u001B[0m         \u001B[38;5;28;01mif\u001B[39;00m time_number \u001B[38;5;241m>\u001B[39m\u001B[38;5;241m=\u001B[39m \u001B[38;5;241m0.2\u001B[39m:\n\u001B[0;32m   1187\u001B[0m             \u001B[38;5;28;01mbreak\u001B[39;00m\n\u001B[1;32m-> 1189\u001B[0m all_runs \u001B[38;5;241m=\u001B[39m \u001B[43mtimer\u001B[49m\u001B[38;5;241;43m.\u001B[39;49m\u001B[43mrepeat\u001B[49m\u001B[43m(\u001B[49m\u001B[43mrepeat\u001B[49m\u001B[43m,\u001B[49m\u001B[43m \u001B[49m\u001B[43mnumber\u001B[49m\u001B[43m)\u001B[49m\n\u001B[0;32m   1190\u001B[0m best \u001B[38;5;241m=\u001B[39m \u001B[38;5;28mmin\u001B[39m(all_runs) \u001B[38;5;241m/\u001B[39m number\n\u001B[0;32m   1191\u001B[0m worst \u001B[38;5;241m=\u001B[39m \u001B[38;5;28mmax\u001B[39m(all_runs) \u001B[38;5;241m/\u001B[39m number\n",
      "File \u001B[1;32m~\\AppData\\Local\\Programs\\Python\\Python311\\Lib\\timeit.py:206\u001B[0m, in \u001B[0;36mTimer.repeat\u001B[1;34m(self, repeat, number)\u001B[0m\n\u001B[0;32m    204\u001B[0m r \u001B[38;5;241m=\u001B[39m []\n\u001B[0;32m    205\u001B[0m \u001B[38;5;28;01mfor\u001B[39;00m i \u001B[38;5;129;01min\u001B[39;00m \u001B[38;5;28mrange\u001B[39m(repeat):\n\u001B[1;32m--> 206\u001B[0m     t \u001B[38;5;241m=\u001B[39m \u001B[38;5;28;43mself\u001B[39;49m\u001B[38;5;241;43m.\u001B[39;49m\u001B[43mtimeit\u001B[49m\u001B[43m(\u001B[49m\u001B[43mnumber\u001B[49m\u001B[43m)\u001B[49m\n\u001B[0;32m    207\u001B[0m     r\u001B[38;5;241m.\u001B[39mappend(t)\n\u001B[0;32m    208\u001B[0m \u001B[38;5;28;01mreturn\u001B[39;00m r\n",
      "File \u001B[1;32m~\\AppData\\Local\\Programs\\Python\\Python311\\Lib\\site-packages\\IPython\\core\\magics\\execution.py:173\u001B[0m, in \u001B[0;36mTimer.timeit\u001B[1;34m(self, number)\u001B[0m\n\u001B[0;32m    171\u001B[0m gc\u001B[38;5;241m.\u001B[39mdisable()\n\u001B[0;32m    172\u001B[0m \u001B[38;5;28;01mtry\u001B[39;00m:\n\u001B[1;32m--> 173\u001B[0m     timing \u001B[38;5;241m=\u001B[39m \u001B[38;5;28;43mself\u001B[39;49m\u001B[38;5;241;43m.\u001B[39;49m\u001B[43minner\u001B[49m\u001B[43m(\u001B[49m\u001B[43mit\u001B[49m\u001B[43m,\u001B[49m\u001B[43m \u001B[49m\u001B[38;5;28;43mself\u001B[39;49m\u001B[38;5;241;43m.\u001B[39;49m\u001B[43mtimer\u001B[49m\u001B[43m)\u001B[49m\n\u001B[0;32m    174\u001B[0m \u001B[38;5;28;01mfinally\u001B[39;00m:\n\u001B[0;32m    175\u001B[0m     \u001B[38;5;28;01mif\u001B[39;00m gcold:\n",
      "File \u001B[1;32m<magic-timeit>:7\u001B[0m, in \u001B[0;36minner\u001B[1;34m(_it, _timer)\u001B[0m\n",
      "Cell \u001B[1;32mIn[18], line 12\u001B[0m, in \u001B[0;36mperceptron\u001B[1;34m(X, y, margin, learning_rate, max_iters)\u001B[0m\n\u001B[0;32m     10\u001B[0m \u001B[38;5;28;01mfor\u001B[39;00m n \u001B[38;5;129;01min\u001B[39;00m \u001B[38;5;28mrange\u001B[39m(N):\n\u001B[0;32m     11\u001B[0m     xn \u001B[38;5;241m=\u001B[39m np\u001B[38;5;241m.\u001B[39marray([\u001B[38;5;241m1\u001B[39m, \u001B[38;5;241m*\u001B[39mX[n, :]])\n\u001B[1;32m---> 12\u001B[0m     cn \u001B[38;5;241m=\u001B[39m np\u001B[38;5;241m.\u001B[39msqueeze(np\u001B[38;5;241m.\u001B[39mwhere(\u001B[43mY\u001B[49m\u001B[38;5;241;43m==\u001B[39;49m\u001B[43my\u001B[49m\u001B[43m[\u001B[49m\u001B[43mn\u001B[49m\u001B[43m]\u001B[49m))\n\u001B[0;32m     13\u001B[0m     gn \u001B[38;5;241m=\u001B[39m weights[:,cn]\u001B[38;5;241m.\u001B[39mT \u001B[38;5;241m@\u001B[39m xn\n\u001B[0;32m     14\u001B[0m     err \u001B[38;5;241m=\u001B[39m \u001B[38;5;28;01mFalse\u001B[39;00m\n",
      "\u001B[1;31mValueError\u001B[0m: operands could not be broadcast together with shapes (32,) (3,) "
     ]
    }
   ],
   "source": [
    "%%timeit -n1 -r1\n",
    "\n",
    "best_precision = 0\n",
    "best_params = [0,0,0]\n",
    "\n",
    "for margin in (0.01, 0.1, 0.3, 0.5, 0.7):\n",
    "    for learning_rate in (0.1, 0.5, 1, 2):\n",
    "        for max_iters in (100, 200, 500, 1000):\n",
    "            W = perceptron(X_train, y_train, margin, learning_rate, max_iters)\n",
    "\n",
    "            X_testh = np.hstack([np.ones((len(X_test), 1)), X_test])\n",
    "            y_test_pred  = np.argmax(X_testh @ W, axis=1).reshape(-1, 1)\n",
    "            err_test = np.count_nonzero(y_test_pred != y_test) / len(X_test)\n",
    "            precision = 100 - err_test\n",
    "            \n",
    "            if precision > best_precision:\n",
    "                best_precision = precision\n",
    "                best_params = [margin, learning_rate, max_iters]\n",
    "\n",
    "print(f'Accuracy: {best_precision:.1f}% with margin {best_params[0]}, learning rate {best_params[1]} and {best_params[2]} maximum iterations')"
   ],
   "metadata": {
    "collapsed": false,
    "ExecuteTime": {
     "end_time": "2024-08-18T00:27:22.411833400Z",
     "start_time": "2024-08-18T00:27:22.152164Z"
    }
   },
   "execution_count": 19
  },
  {
   "cell_type": "markdown",
   "source": [
    "**NAIVE BAYES** "
   ],
   "metadata": {
    "collapsed": false
   }
  },
  {
   "cell_type": "code",
   "outputs": [
    {
     "ename": "ValueError",
     "evalue": "\nAll the 40 fits failed.\nIt is very likely that your model is misconfigured.\nYou can try to debug the error by setting error_score='raise'.\n\nBelow are more details about the failures:\n--------------------------------------------------------------------------------\n8 fits failed with the following error:\nTraceback (most recent call last):\n  File \"C:\\Users\\Usuario\\AppData\\Local\\Programs\\Python\\Python311\\Lib\\site-packages\\sklearn\\model_selection\\_validation.py\", line 729, in _fit_and_score\n    estimator.fit(X_train, y_train, **fit_params)\n  File \"C:\\Users\\Usuario\\AppData\\Local\\Programs\\Python\\Python311\\Lib\\site-packages\\sklearn\\base.py\", line 1152, in wrapper\n    return fit_method(estimator, *args, **kwargs)\n           ^^^^^^^^^^^^^^^^^^^^^^^^^^^^^^^^^^^^^^\n  File \"C:\\Users\\Usuario\\AppData\\Local\\Programs\\Python\\Python311\\Lib\\site-packages\\sklearn\\naive_bayes.py\", line 262, in fit\n    y = self._validate_data(y=y)\n        ^^^^^^^^^^^^^^^^^^^^^^^^\n  File \"C:\\Users\\Usuario\\AppData\\Local\\Programs\\Python\\Python311\\Lib\\site-packages\\sklearn\\base.py\", line 607, in _validate_data\n    out = _check_y(y, **check_params)\n          ^^^^^^^^^^^^^^^^^^^^^^^^^^^\n  File \"C:\\Users\\Usuario\\AppData\\Local\\Programs\\Python\\Python311\\Lib\\site-packages\\sklearn\\utils\\validation.py\", line 1183, in _check_y\n    y = column_or_1d(y, warn=True)\n        ^^^^^^^^^^^^^^^^^^^^^^^^^^\n  File \"C:\\Users\\Usuario\\AppData\\Local\\Programs\\Python\\Python311\\Lib\\site-packages\\sklearn\\utils\\validation.py\", line 1244, in column_or_1d\n    raise ValueError(\nValueError: y should be a 1d array, got an array of shape (12, 3) instead.\n\n--------------------------------------------------------------------------------\n32 fits failed with the following error:\nTraceback (most recent call last):\n  File \"C:\\Users\\Usuario\\AppData\\Local\\Programs\\Python\\Python311\\Lib\\site-packages\\sklearn\\model_selection\\_validation.py\", line 729, in _fit_and_score\n    estimator.fit(X_train, y_train, **fit_params)\n  File \"C:\\Users\\Usuario\\AppData\\Local\\Programs\\Python\\Python311\\Lib\\site-packages\\sklearn\\base.py\", line 1152, in wrapper\n    return fit_method(estimator, *args, **kwargs)\n           ^^^^^^^^^^^^^^^^^^^^^^^^^^^^^^^^^^^^^^\n  File \"C:\\Users\\Usuario\\AppData\\Local\\Programs\\Python\\Python311\\Lib\\site-packages\\sklearn\\naive_bayes.py\", line 262, in fit\n    y = self._validate_data(y=y)\n        ^^^^^^^^^^^^^^^^^^^^^^^^\n  File \"C:\\Users\\Usuario\\AppData\\Local\\Programs\\Python\\Python311\\Lib\\site-packages\\sklearn\\base.py\", line 607, in _validate_data\n    out = _check_y(y, **check_params)\n          ^^^^^^^^^^^^^^^^^^^^^^^^^^^\n  File \"C:\\Users\\Usuario\\AppData\\Local\\Programs\\Python\\Python311\\Lib\\site-packages\\sklearn\\utils\\validation.py\", line 1183, in _check_y\n    y = column_or_1d(y, warn=True)\n        ^^^^^^^^^^^^^^^^^^^^^^^^^^\n  File \"C:\\Users\\Usuario\\AppData\\Local\\Programs\\Python\\Python311\\Lib\\site-packages\\sklearn\\utils\\validation.py\", line 1244, in column_or_1d\n    raise ValueError(\nValueError: y should be a 1d array, got an array of shape (13, 3) instead.\n",
     "output_type": "error",
     "traceback": [
      "\u001B[1;31m---------------------------------------------------------------------------\u001B[0m",
      "\u001B[1;31mValueError\u001B[0m                                Traceback (most recent call last)",
      "Cell \u001B[1;32mIn[20], line 1\u001B[0m\n\u001B[1;32m----> 1\u001B[0m \u001B[43mget_ipython\u001B[49m\u001B[43m(\u001B[49m\u001B[43m)\u001B[49m\u001B[38;5;241;43m.\u001B[39;49m\u001B[43mrun_cell_magic\u001B[49m\u001B[43m(\u001B[49m\u001B[38;5;124;43m'\u001B[39;49m\u001B[38;5;124;43mtimeit\u001B[39;49m\u001B[38;5;124;43m'\u001B[39;49m\u001B[43m,\u001B[49m\u001B[43m \u001B[49m\u001B[38;5;124;43m'\u001B[39;49m\u001B[38;5;124;43m-n1 -r1\u001B[39;49m\u001B[38;5;124;43m'\u001B[39;49m\u001B[43m,\u001B[49m\u001B[43m \u001B[49m\u001B[38;5;124;43m'\u001B[39;49m\u001B[38;5;124;43mnb = GaussianNB()\u001B[39;49m\u001B[38;5;130;43;01m\\n\u001B[39;49;00m\u001B[38;5;130;43;01m\\n\u001B[39;49;00m\u001B[38;5;124;43mGnb = \u001B[39;49m\u001B[38;5;124;43m{\u001B[39;49m\u001B[38;5;124;43m\"\u001B[39;49m\u001B[38;5;124;43mvar_smoothing\u001B[39;49m\u001B[38;5;124;43m\"\u001B[39;49m\u001B[38;5;124;43m: [1e-9, 0.001, 0.01, 0.1, 0.3, 0.5, 0.7, 0.9]}\u001B[39;49m\u001B[38;5;130;43;01m\\n\u001B[39;49;00m\u001B[38;5;124;43mGSnb = GridSearchCV(nb, Gnb, scoring=\u001B[39;49m\u001B[38;5;130;43;01m\\'\u001B[39;49;00m\u001B[38;5;124;43maccuracy\u001B[39;49m\u001B[38;5;130;43;01m\\'\u001B[39;49;00m\u001B[38;5;124;43m, refit=True, cv=5)\u001B[39;49m\u001B[38;5;130;43;01m\\n\u001B[39;49;00m\u001B[38;5;130;43;01m\\n\u001B[39;49;00m\u001B[38;5;124;43macc = GSnb.fit(X_train, y_train).score(X_test, y_test)\u001B[39;49m\u001B[38;5;130;43;01m\\n\u001B[39;49;00m\u001B[38;5;124;43mprint(f\u001B[39;49m\u001B[38;5;130;43;01m\\'\u001B[39;49;00m\u001B[38;5;124;43mAccuracy: \u001B[39;49m\u001B[38;5;132;43;01m{acc:.1%}\u001B[39;49;00m\u001B[38;5;124;43m con \u001B[39;49m\u001B[38;5;132;43;01m{GSnb.best_params_}\u001B[39;49;00m\u001B[38;5;130;43;01m\\'\u001B[39;49;00m\u001B[38;5;124;43m)\u001B[39;49m\u001B[38;5;130;43;01m\\n\u001B[39;49;00m\u001B[38;5;124;43m'\u001B[39;49m\u001B[43m)\u001B[49m\n",
      "File \u001B[1;32m~\\AppData\\Local\\Programs\\Python\\Python311\\Lib\\site-packages\\IPython\\core\\interactiveshell.py:2517\u001B[0m, in \u001B[0;36mInteractiveShell.run_cell_magic\u001B[1;34m(self, magic_name, line, cell)\u001B[0m\n\u001B[0;32m   2515\u001B[0m \u001B[38;5;28;01mwith\u001B[39;00m \u001B[38;5;28mself\u001B[39m\u001B[38;5;241m.\u001B[39mbuiltin_trap:\n\u001B[0;32m   2516\u001B[0m     args \u001B[38;5;241m=\u001B[39m (magic_arg_s, cell)\n\u001B[1;32m-> 2517\u001B[0m     result \u001B[38;5;241m=\u001B[39m \u001B[43mfn\u001B[49m\u001B[43m(\u001B[49m\u001B[38;5;241;43m*\u001B[39;49m\u001B[43margs\u001B[49m\u001B[43m,\u001B[49m\u001B[43m \u001B[49m\u001B[38;5;241;43m*\u001B[39;49m\u001B[38;5;241;43m*\u001B[39;49m\u001B[43mkwargs\u001B[49m\u001B[43m)\u001B[49m\n\u001B[0;32m   2519\u001B[0m \u001B[38;5;66;03m# The code below prevents the output from being displayed\u001B[39;00m\n\u001B[0;32m   2520\u001B[0m \u001B[38;5;66;03m# when using magics with decorator @output_can_be_silenced\u001B[39;00m\n\u001B[0;32m   2521\u001B[0m \u001B[38;5;66;03m# when the last Python token in the expression is a ';'.\u001B[39;00m\n\u001B[0;32m   2522\u001B[0m \u001B[38;5;28;01mif\u001B[39;00m \u001B[38;5;28mgetattr\u001B[39m(fn, magic\u001B[38;5;241m.\u001B[39mMAGIC_OUTPUT_CAN_BE_SILENCED, \u001B[38;5;28;01mFalse\u001B[39;00m):\n",
      "File \u001B[1;32m~\\AppData\\Local\\Programs\\Python\\Python311\\Lib\\site-packages\\IPython\\core\\magics\\execution.py:1189\u001B[0m, in \u001B[0;36mExecutionMagics.timeit\u001B[1;34m(self, line, cell, local_ns)\u001B[0m\n\u001B[0;32m   1186\u001B[0m         \u001B[38;5;28;01mif\u001B[39;00m time_number \u001B[38;5;241m>\u001B[39m\u001B[38;5;241m=\u001B[39m \u001B[38;5;241m0.2\u001B[39m:\n\u001B[0;32m   1187\u001B[0m             \u001B[38;5;28;01mbreak\u001B[39;00m\n\u001B[1;32m-> 1189\u001B[0m all_runs \u001B[38;5;241m=\u001B[39m \u001B[43mtimer\u001B[49m\u001B[38;5;241;43m.\u001B[39;49m\u001B[43mrepeat\u001B[49m\u001B[43m(\u001B[49m\u001B[43mrepeat\u001B[49m\u001B[43m,\u001B[49m\u001B[43m \u001B[49m\u001B[43mnumber\u001B[49m\u001B[43m)\u001B[49m\n\u001B[0;32m   1190\u001B[0m best \u001B[38;5;241m=\u001B[39m \u001B[38;5;28mmin\u001B[39m(all_runs) \u001B[38;5;241m/\u001B[39m number\n\u001B[0;32m   1191\u001B[0m worst \u001B[38;5;241m=\u001B[39m \u001B[38;5;28mmax\u001B[39m(all_runs) \u001B[38;5;241m/\u001B[39m number\n",
      "File \u001B[1;32m~\\AppData\\Local\\Programs\\Python\\Python311\\Lib\\timeit.py:206\u001B[0m, in \u001B[0;36mTimer.repeat\u001B[1;34m(self, repeat, number)\u001B[0m\n\u001B[0;32m    204\u001B[0m r \u001B[38;5;241m=\u001B[39m []\n\u001B[0;32m    205\u001B[0m \u001B[38;5;28;01mfor\u001B[39;00m i \u001B[38;5;129;01min\u001B[39;00m \u001B[38;5;28mrange\u001B[39m(repeat):\n\u001B[1;32m--> 206\u001B[0m     t \u001B[38;5;241m=\u001B[39m \u001B[38;5;28;43mself\u001B[39;49m\u001B[38;5;241;43m.\u001B[39;49m\u001B[43mtimeit\u001B[49m\u001B[43m(\u001B[49m\u001B[43mnumber\u001B[49m\u001B[43m)\u001B[49m\n\u001B[0;32m    207\u001B[0m     r\u001B[38;5;241m.\u001B[39mappend(t)\n\u001B[0;32m    208\u001B[0m \u001B[38;5;28;01mreturn\u001B[39;00m r\n",
      "File \u001B[1;32m~\\AppData\\Local\\Programs\\Python\\Python311\\Lib\\site-packages\\IPython\\core\\magics\\execution.py:173\u001B[0m, in \u001B[0;36mTimer.timeit\u001B[1;34m(self, number)\u001B[0m\n\u001B[0;32m    171\u001B[0m gc\u001B[38;5;241m.\u001B[39mdisable()\n\u001B[0;32m    172\u001B[0m \u001B[38;5;28;01mtry\u001B[39;00m:\n\u001B[1;32m--> 173\u001B[0m     timing \u001B[38;5;241m=\u001B[39m \u001B[38;5;28;43mself\u001B[39;49m\u001B[38;5;241;43m.\u001B[39;49m\u001B[43minner\u001B[49m\u001B[43m(\u001B[49m\u001B[43mit\u001B[49m\u001B[43m,\u001B[49m\u001B[43m \u001B[49m\u001B[38;5;28;43mself\u001B[39;49m\u001B[38;5;241;43m.\u001B[39;49m\u001B[43mtimer\u001B[49m\u001B[43m)\u001B[49m\n\u001B[0;32m    174\u001B[0m \u001B[38;5;28;01mfinally\u001B[39;00m:\n\u001B[0;32m    175\u001B[0m     \u001B[38;5;28;01mif\u001B[39;00m gcold:\n",
      "File \u001B[1;32m<magic-timeit>:6\u001B[0m, in \u001B[0;36minner\u001B[1;34m(_it, _timer)\u001B[0m\n",
      "File \u001B[1;32m~\\AppData\\Local\\Programs\\Python\\Python311\\Lib\\site-packages\\sklearn\\base.py:1152\u001B[0m, in \u001B[0;36m_fit_context.<locals>.decorator.<locals>.wrapper\u001B[1;34m(estimator, *args, **kwargs)\u001B[0m\n\u001B[0;32m   1145\u001B[0m     estimator\u001B[38;5;241m.\u001B[39m_validate_params()\n\u001B[0;32m   1147\u001B[0m \u001B[38;5;28;01mwith\u001B[39;00m config_context(\n\u001B[0;32m   1148\u001B[0m     skip_parameter_validation\u001B[38;5;241m=\u001B[39m(\n\u001B[0;32m   1149\u001B[0m         prefer_skip_nested_validation \u001B[38;5;129;01mor\u001B[39;00m global_skip_validation\n\u001B[0;32m   1150\u001B[0m     )\n\u001B[0;32m   1151\u001B[0m ):\n\u001B[1;32m-> 1152\u001B[0m     \u001B[38;5;28;01mreturn\u001B[39;00m \u001B[43mfit_method\u001B[49m\u001B[43m(\u001B[49m\u001B[43mestimator\u001B[49m\u001B[43m,\u001B[49m\u001B[43m \u001B[49m\u001B[38;5;241;43m*\u001B[39;49m\u001B[43margs\u001B[49m\u001B[43m,\u001B[49m\u001B[43m \u001B[49m\u001B[38;5;241;43m*\u001B[39;49m\u001B[38;5;241;43m*\u001B[39;49m\u001B[43mkwargs\u001B[49m\u001B[43m)\u001B[49m\n",
      "File \u001B[1;32m~\\AppData\\Local\\Programs\\Python\\Python311\\Lib\\site-packages\\sklearn\\model_selection\\_search.py:898\u001B[0m, in \u001B[0;36mBaseSearchCV.fit\u001B[1;34m(self, X, y, groups, **fit_params)\u001B[0m\n\u001B[0;32m    892\u001B[0m     results \u001B[38;5;241m=\u001B[39m \u001B[38;5;28mself\u001B[39m\u001B[38;5;241m.\u001B[39m_format_results(\n\u001B[0;32m    893\u001B[0m         all_candidate_params, n_splits, all_out, all_more_results\n\u001B[0;32m    894\u001B[0m     )\n\u001B[0;32m    896\u001B[0m     \u001B[38;5;28;01mreturn\u001B[39;00m results\n\u001B[1;32m--> 898\u001B[0m \u001B[38;5;28;43mself\u001B[39;49m\u001B[38;5;241;43m.\u001B[39;49m\u001B[43m_run_search\u001B[49m\u001B[43m(\u001B[49m\u001B[43mevaluate_candidates\u001B[49m\u001B[43m)\u001B[49m\n\u001B[0;32m    900\u001B[0m \u001B[38;5;66;03m# multimetric is determined here because in the case of a callable\u001B[39;00m\n\u001B[0;32m    901\u001B[0m \u001B[38;5;66;03m# self.scoring the return type is only known after calling\u001B[39;00m\n\u001B[0;32m    902\u001B[0m first_test_score \u001B[38;5;241m=\u001B[39m all_out[\u001B[38;5;241m0\u001B[39m][\u001B[38;5;124m\"\u001B[39m\u001B[38;5;124mtest_scores\u001B[39m\u001B[38;5;124m\"\u001B[39m]\n",
      "File \u001B[1;32m~\\AppData\\Local\\Programs\\Python\\Python311\\Lib\\site-packages\\sklearn\\model_selection\\_search.py:1422\u001B[0m, in \u001B[0;36mGridSearchCV._run_search\u001B[1;34m(self, evaluate_candidates)\u001B[0m\n\u001B[0;32m   1420\u001B[0m \u001B[38;5;28;01mdef\u001B[39;00m \u001B[38;5;21m_run_search\u001B[39m(\u001B[38;5;28mself\u001B[39m, evaluate_candidates):\n\u001B[0;32m   1421\u001B[0m \u001B[38;5;250m    \u001B[39m\u001B[38;5;124;03m\"\"\"Search all candidates in param_grid\"\"\"\u001B[39;00m\n\u001B[1;32m-> 1422\u001B[0m     \u001B[43mevaluate_candidates\u001B[49m\u001B[43m(\u001B[49m\u001B[43mParameterGrid\u001B[49m\u001B[43m(\u001B[49m\u001B[38;5;28;43mself\u001B[39;49m\u001B[38;5;241;43m.\u001B[39;49m\u001B[43mparam_grid\u001B[49m\u001B[43m)\u001B[49m\u001B[43m)\u001B[49m\n",
      "File \u001B[1;32m~\\AppData\\Local\\Programs\\Python\\Python311\\Lib\\site-packages\\sklearn\\model_selection\\_search.py:875\u001B[0m, in \u001B[0;36mBaseSearchCV.fit.<locals>.evaluate_candidates\u001B[1;34m(candidate_params, cv, more_results)\u001B[0m\n\u001B[0;32m    868\u001B[0m \u001B[38;5;28;01melif\u001B[39;00m \u001B[38;5;28mlen\u001B[39m(out) \u001B[38;5;241m!=\u001B[39m n_candidates \u001B[38;5;241m*\u001B[39m n_splits:\n\u001B[0;32m    869\u001B[0m     \u001B[38;5;28;01mraise\u001B[39;00m \u001B[38;5;167;01mValueError\u001B[39;00m(\n\u001B[0;32m    870\u001B[0m         \u001B[38;5;124m\"\u001B[39m\u001B[38;5;124mcv.split and cv.get_n_splits returned \u001B[39m\u001B[38;5;124m\"\u001B[39m\n\u001B[0;32m    871\u001B[0m         \u001B[38;5;124m\"\u001B[39m\u001B[38;5;124minconsistent results. Expected \u001B[39m\u001B[38;5;132;01m{}\u001B[39;00m\u001B[38;5;124m \u001B[39m\u001B[38;5;124m\"\u001B[39m\n\u001B[0;32m    872\u001B[0m         \u001B[38;5;124m\"\u001B[39m\u001B[38;5;124msplits, got \u001B[39m\u001B[38;5;132;01m{}\u001B[39;00m\u001B[38;5;124m\"\u001B[39m\u001B[38;5;241m.\u001B[39mformat(n_splits, \u001B[38;5;28mlen\u001B[39m(out) \u001B[38;5;241m/\u001B[39m\u001B[38;5;241m/\u001B[39m n_candidates)\n\u001B[0;32m    873\u001B[0m     )\n\u001B[1;32m--> 875\u001B[0m \u001B[43m_warn_or_raise_about_fit_failures\u001B[49m\u001B[43m(\u001B[49m\u001B[43mout\u001B[49m\u001B[43m,\u001B[49m\u001B[43m \u001B[49m\u001B[38;5;28;43mself\u001B[39;49m\u001B[38;5;241;43m.\u001B[39;49m\u001B[43merror_score\u001B[49m\u001B[43m)\u001B[49m\n\u001B[0;32m    877\u001B[0m \u001B[38;5;66;03m# For callable self.scoring, the return type is only know after\u001B[39;00m\n\u001B[0;32m    878\u001B[0m \u001B[38;5;66;03m# calling. If the return type is a dictionary, the error scores\u001B[39;00m\n\u001B[0;32m    879\u001B[0m \u001B[38;5;66;03m# can now be inserted with the correct key. The type checking\u001B[39;00m\n\u001B[0;32m    880\u001B[0m \u001B[38;5;66;03m# of out will be done in `_insert_error_scores`.\u001B[39;00m\n\u001B[0;32m    881\u001B[0m \u001B[38;5;28;01mif\u001B[39;00m \u001B[38;5;28mcallable\u001B[39m(\u001B[38;5;28mself\u001B[39m\u001B[38;5;241m.\u001B[39mscoring):\n",
      "File \u001B[1;32m~\\AppData\\Local\\Programs\\Python\\Python311\\Lib\\site-packages\\sklearn\\model_selection\\_validation.py:414\u001B[0m, in \u001B[0;36m_warn_or_raise_about_fit_failures\u001B[1;34m(results, error_score)\u001B[0m\n\u001B[0;32m    407\u001B[0m \u001B[38;5;28;01mif\u001B[39;00m num_failed_fits \u001B[38;5;241m==\u001B[39m num_fits:\n\u001B[0;32m    408\u001B[0m     all_fits_failed_message \u001B[38;5;241m=\u001B[39m (\n\u001B[0;32m    409\u001B[0m         \u001B[38;5;124mf\u001B[39m\u001B[38;5;124m\"\u001B[39m\u001B[38;5;130;01m\\n\u001B[39;00m\u001B[38;5;124mAll the \u001B[39m\u001B[38;5;132;01m{\u001B[39;00mnum_fits\u001B[38;5;132;01m}\u001B[39;00m\u001B[38;5;124m fits failed.\u001B[39m\u001B[38;5;130;01m\\n\u001B[39;00m\u001B[38;5;124m\"\u001B[39m\n\u001B[0;32m    410\u001B[0m         \u001B[38;5;124m\"\u001B[39m\u001B[38;5;124mIt is very likely that your model is misconfigured.\u001B[39m\u001B[38;5;130;01m\\n\u001B[39;00m\u001B[38;5;124m\"\u001B[39m\n\u001B[0;32m    411\u001B[0m         \u001B[38;5;124m\"\u001B[39m\u001B[38;5;124mYou can try to debug the error by setting error_score=\u001B[39m\u001B[38;5;124m'\u001B[39m\u001B[38;5;124mraise\u001B[39m\u001B[38;5;124m'\u001B[39m\u001B[38;5;124m.\u001B[39m\u001B[38;5;130;01m\\n\u001B[39;00m\u001B[38;5;130;01m\\n\u001B[39;00m\u001B[38;5;124m\"\u001B[39m\n\u001B[0;32m    412\u001B[0m         \u001B[38;5;124mf\u001B[39m\u001B[38;5;124m\"\u001B[39m\u001B[38;5;124mBelow are more details about the failures:\u001B[39m\u001B[38;5;130;01m\\n\u001B[39;00m\u001B[38;5;132;01m{\u001B[39;00mfit_errors_summary\u001B[38;5;132;01m}\u001B[39;00m\u001B[38;5;124m\"\u001B[39m\n\u001B[0;32m    413\u001B[0m     )\n\u001B[1;32m--> 414\u001B[0m     \u001B[38;5;28;01mraise\u001B[39;00m \u001B[38;5;167;01mValueError\u001B[39;00m(all_fits_failed_message)\n\u001B[0;32m    416\u001B[0m \u001B[38;5;28;01melse\u001B[39;00m:\n\u001B[0;32m    417\u001B[0m     some_fits_failed_message \u001B[38;5;241m=\u001B[39m (\n\u001B[0;32m    418\u001B[0m         \u001B[38;5;124mf\u001B[39m\u001B[38;5;124m\"\u001B[39m\u001B[38;5;130;01m\\n\u001B[39;00m\u001B[38;5;132;01m{\u001B[39;00mnum_failed_fits\u001B[38;5;132;01m}\u001B[39;00m\u001B[38;5;124m fits failed out of a total of \u001B[39m\u001B[38;5;132;01m{\u001B[39;00mnum_fits\u001B[38;5;132;01m}\u001B[39;00m\u001B[38;5;124m.\u001B[39m\u001B[38;5;130;01m\\n\u001B[39;00m\u001B[38;5;124m\"\u001B[39m\n\u001B[0;32m    419\u001B[0m         \u001B[38;5;124m\"\u001B[39m\u001B[38;5;124mThe score on these train-test partitions for these parameters\u001B[39m\u001B[38;5;124m\"\u001B[39m\n\u001B[1;32m   (...)\u001B[0m\n\u001B[0;32m    423\u001B[0m         \u001B[38;5;124mf\u001B[39m\u001B[38;5;124m\"\u001B[39m\u001B[38;5;124mBelow are more details about the failures:\u001B[39m\u001B[38;5;130;01m\\n\u001B[39;00m\u001B[38;5;132;01m{\u001B[39;00mfit_errors_summary\u001B[38;5;132;01m}\u001B[39;00m\u001B[38;5;124m\"\u001B[39m\n\u001B[0;32m    424\u001B[0m     )\n",
      "\u001B[1;31mValueError\u001B[0m: \nAll the 40 fits failed.\nIt is very likely that your model is misconfigured.\nYou can try to debug the error by setting error_score='raise'.\n\nBelow are more details about the failures:\n--------------------------------------------------------------------------------\n8 fits failed with the following error:\nTraceback (most recent call last):\n  File \"C:\\Users\\Usuario\\AppData\\Local\\Programs\\Python\\Python311\\Lib\\site-packages\\sklearn\\model_selection\\_validation.py\", line 729, in _fit_and_score\n    estimator.fit(X_train, y_train, **fit_params)\n  File \"C:\\Users\\Usuario\\AppData\\Local\\Programs\\Python\\Python311\\Lib\\site-packages\\sklearn\\base.py\", line 1152, in wrapper\n    return fit_method(estimator, *args, **kwargs)\n           ^^^^^^^^^^^^^^^^^^^^^^^^^^^^^^^^^^^^^^\n  File \"C:\\Users\\Usuario\\AppData\\Local\\Programs\\Python\\Python311\\Lib\\site-packages\\sklearn\\naive_bayes.py\", line 262, in fit\n    y = self._validate_data(y=y)\n        ^^^^^^^^^^^^^^^^^^^^^^^^\n  File \"C:\\Users\\Usuario\\AppData\\Local\\Programs\\Python\\Python311\\Lib\\site-packages\\sklearn\\base.py\", line 607, in _validate_data\n    out = _check_y(y, **check_params)\n          ^^^^^^^^^^^^^^^^^^^^^^^^^^^\n  File \"C:\\Users\\Usuario\\AppData\\Local\\Programs\\Python\\Python311\\Lib\\site-packages\\sklearn\\utils\\validation.py\", line 1183, in _check_y\n    y = column_or_1d(y, warn=True)\n        ^^^^^^^^^^^^^^^^^^^^^^^^^^\n  File \"C:\\Users\\Usuario\\AppData\\Local\\Programs\\Python\\Python311\\Lib\\site-packages\\sklearn\\utils\\validation.py\", line 1244, in column_or_1d\n    raise ValueError(\nValueError: y should be a 1d array, got an array of shape (12, 3) instead.\n\n--------------------------------------------------------------------------------\n32 fits failed with the following error:\nTraceback (most recent call last):\n  File \"C:\\Users\\Usuario\\AppData\\Local\\Programs\\Python\\Python311\\Lib\\site-packages\\sklearn\\model_selection\\_validation.py\", line 729, in _fit_and_score\n    estimator.fit(X_train, y_train, **fit_params)\n  File \"C:\\Users\\Usuario\\AppData\\Local\\Programs\\Python\\Python311\\Lib\\site-packages\\sklearn\\base.py\", line 1152, in wrapper\n    return fit_method(estimator, *args, **kwargs)\n           ^^^^^^^^^^^^^^^^^^^^^^^^^^^^^^^^^^^^^^\n  File \"C:\\Users\\Usuario\\AppData\\Local\\Programs\\Python\\Python311\\Lib\\site-packages\\sklearn\\naive_bayes.py\", line 262, in fit\n    y = self._validate_data(y=y)\n        ^^^^^^^^^^^^^^^^^^^^^^^^\n  File \"C:\\Users\\Usuario\\AppData\\Local\\Programs\\Python\\Python311\\Lib\\site-packages\\sklearn\\base.py\", line 607, in _validate_data\n    out = _check_y(y, **check_params)\n          ^^^^^^^^^^^^^^^^^^^^^^^^^^^\n  File \"C:\\Users\\Usuario\\AppData\\Local\\Programs\\Python\\Python311\\Lib\\site-packages\\sklearn\\utils\\validation.py\", line 1183, in _check_y\n    y = column_or_1d(y, warn=True)\n        ^^^^^^^^^^^^^^^^^^^^^^^^^^\n  File \"C:\\Users\\Usuario\\AppData\\Local\\Programs\\Python\\Python311\\Lib\\site-packages\\sklearn\\utils\\validation.py\", line 1244, in column_or_1d\n    raise ValueError(\nValueError: y should be a 1d array, got an array of shape (13, 3) instead.\n"
     ]
    }
   ],
   "source": [
    "%%timeit -n1 -r1\n",
    "nb = GaussianNB()\n",
    "\n",
    "Gnb = {\"var_smoothing\": [1e-9, 0.001, 0.01, 0.1, 0.3, 0.5, 0.7, 0.9]}\n",
    "GSnb = GridSearchCV(nb, Gnb, scoring='accuracy', refit=True, cv=5)\n",
    "\n",
    "acc = GSnb.fit(X_train, y_train).score(X_test, y_test)\n",
    "print(f'Accuracy: {acc:.1%} con {GSnb.best_params_}')"
   ],
   "metadata": {
    "collapsed": false,
    "ExecuteTime": {
     "end_time": "2024-08-18T00:27:28.631923200Z",
     "start_time": "2024-08-18T00:27:27.794984400Z"
    }
   },
   "execution_count": 20
  },
  {
   "cell_type": "markdown",
   "source": [
    "**LINEAR DISCRIMINANT ANALYSIS**"
   ],
   "metadata": {
    "collapsed": false
   }
  },
  {
   "cell_type": "code",
   "outputs": [
    {
     "name": "stdout",
     "output_type": "stream",
     "text": [
      "Accuracy: 100.0% con {'n_components': 1, 'solver': 'svd', 'tol': 1e-05}\n",
      "1.32 s ± 0 ns per loop (mean ± std. dev. of 1 run, 1 loop each)\n"
     ]
    }
   ],
   "source": [
    "%%timeit -n1 -r1\n",
    "lda = LinearDiscriminantAnalysis()\n",
    "\n",
    "Glda = {\"solver\": ['svd', 'lsqr', 'eigen'], \"n_components\": [1,2], \"tol\": [1e-5, 1e-4, 0.001, 0.01, 0.1, 0.3, 0.5, 0.7, 0.9]}\n",
    "GSlda = GridSearchCV(lda, Glda, scoring='accuracy', refit=True, cv=5)\n",
    "\n",
    "acc = GSlda.fit(X_train, y_train).score(X_test, y_test)\n",
    "print(f'Accuracy: {acc:.1%} con {GSlda.best_params_}')"
   ],
   "metadata": {
    "collapsed": false,
    "ExecuteTime": {
     "end_time": "2024-08-16T19:58:58.453191300Z",
     "start_time": "2024-08-16T19:58:57.121671700Z"
    }
   },
   "execution_count": 10
  },
  {
   "cell_type": "markdown",
   "source": [
    "**QUADRATIC DISCRIMINANT ANALYSIS**"
   ],
   "metadata": {
    "collapsed": false
   }
  },
  {
   "cell_type": "code",
   "outputs": [
    {
     "name": "stdout",
     "output_type": "stream",
     "text": [
      "Accuracy: 97.2% con {'tol': 1e-05}\n",
      "108 ms ± 0 ns per loop (mean ± std. dev. of 1 run, 1 loop each)\n"
     ]
    }
   ],
   "source": [
    "%%timeit -n1 -r1\n",
    "import warnings; warnings.filterwarnings('ignore')\n",
    "\n",
    "qda = QuadraticDiscriminantAnalysis()\n",
    "\n",
    "Gqda = {\"tol\": [1e-5, 1e-4, 0.001, 0.01, 0.1, 0.3, 0.5, 0.7, 0.9]}\n",
    "GSqda = GridSearchCV(qda, Gqda, scoring='accuracy', refit=True, cv=5)\n",
    "\n",
    "acc = GSqda.fit(X_train, y_train).score(X_test, y_test)\n",
    "print(f'Accuracy: {acc:.1%} con {GSqda.best_params_}')"
   ],
   "metadata": {
    "collapsed": false,
    "ExecuteTime": {
     "end_time": "2024-08-16T20:01:06.025026Z",
     "start_time": "2024-08-16T20:01:05.901906300Z"
    }
   },
   "execution_count": 11
  },
  {
   "cell_type": "markdown",
   "source": [
    "**LOGISTIC REGRESSION**"
   ],
   "metadata": {
    "collapsed": false
   }
  },
  {
   "cell_type": "code",
   "outputs": [
    {
     "name": "stdout",
     "output_type": "stream",
     "text": [
      "Accuracy: 100.0% con {'C': 100, 'max_iter': 100, 'multi_class': 'auto', 'n_jobs': 1, 'penalty': 'l1', 'solver': 'liblinear', 'tol': 0.001}\n",
      "4min 36s ± 0 ns per loop (mean ± std. dev. of 1 run, 1 loop each)\n"
     ]
    }
   ],
   "source": [
    "%%timeit -n1 -r1\n",
    "\n",
    "log_reg = LogisticRegression(random_state=23)\n",
    "\n",
    "Glogreg = {\"penalty\": ['l1', 'l2', None], \"tol\": [0.001, 0.01, 0.1], \"solver\": ['lbfgs', 'liblinear', 'newton-cg'], \"multi_class\": ['auto', 'multinomial'], \"max_iter\": [10, 50, 100], \"n_jobs\": [1,2,4], \"C\": [0.001, 0.1, 1, 10, 100]}\n",
    "GSlogreg = GridSearchCV(log_reg, Glogreg, scoring='accuracy', refit=True, cv=5)\n",
    "\n",
    "acc = GSlogreg.fit(X_train, y_train).score(X_test, y_test)\n",
    "print(f'Accuracy: {acc:.1%} con {GSlogreg.best_params_}')"
   ],
   "metadata": {
    "collapsed": false,
    "ExecuteTime": {
     "end_time": "2024-08-16T20:05:45.901620700Z",
     "start_time": "2024-08-16T20:01:08.885103700Z"
    }
   },
   "execution_count": 12
  },
  {
   "cell_type": "markdown",
   "source": [
    "**DECISION TREE CLASSIFIER**"
   ],
   "metadata": {
    "collapsed": false
   }
  },
  {
   "cell_type": "code",
   "outputs": [
    {
     "name": "stdout",
     "output_type": "stream",
     "text": [
      "Accuracy: 97.2% con {'criterion': 'gini', 'max_depth': 3, 'min_samples_split': 2}\n",
      "1.47 s ± 0 ns per loop (mean ± std. dev. of 1 run, 1 loop each)\n"
     ]
    }
   ],
   "source": [
    "%%timeit -n1 -r1\n",
    "\n",
    "dtc = DecisionTreeClassifier(random_state=23)\n",
    "\n",
    "Gdtc = {\"criterion\": ['gini', 'entropy', 'log_loss'], \"max_depth\": [1,3,5,7,10,20], \"min_samples_split\": [2,3,4,5]}\n",
    "GSdtc = GridSearchCV(dtc, Gdtc, scoring='accuracy', refit=True, cv=5)\n",
    "\n",
    "acc = GSdtc.fit(X_train, y_train).score(X_test, y_test)\n",
    "print(f'Accuracy: {acc:.1%} con {GSdtc.best_params_}')"
   ],
   "metadata": {
    "collapsed": false,
    "ExecuteTime": {
     "end_time": "2024-08-16T20:09:27.799219600Z",
     "start_time": "2024-08-16T20:09:26.320123300Z"
    }
   },
   "execution_count": 13
  },
  {
   "cell_type": "markdown",
   "source": [
    "**RANDOM FOREST**"
   ],
   "metadata": {
    "collapsed": false
   }
  },
  {
   "cell_type": "code",
   "outputs": [
    {
     "name": "stdout",
     "output_type": "stream",
     "text": [
      "Accuracy: 100.0% con {'bootstrap': True, 'criterion': 'entropy', 'max_depth': 5, 'min_samples_split': 3, 'n_estimators': 50}\n",
      "1min 23s ± 0 ns per loop (mean ± std. dev. of 1 run, 1 loop each)\n"
     ]
    }
   ],
   "source": [
    "%%timeit -n1 -r1\n",
    "\n",
    "rfc = RandomForestClassifier(random_state=23)\n",
    "\n",
    "Grfc = {\"n_estimators\": [1,5,10,25,50], \"criterion\": ['gini', 'entropy', 'log_loss'], \"bootstrap\": [True,False], \"max_depth\": [1,3,5,7,10,20], \"min_samples_split\": [2,3,4,5]}\n",
    "GSrfc = GridSearchCV(rfc, Grfc, scoring='accuracy', refit=True, cv=5)\n",
    "\n",
    "acc = GSrfc.fit(X_train, y_train).score(X_test, y_test)\n",
    "print(f'Accuracy: {acc:.1%} con {GSrfc.best_params_}')"
   ],
   "metadata": {
    "collapsed": false,
    "ExecuteTime": {
     "end_time": "2024-08-16T20:10:53.781141200Z",
     "start_time": "2024-08-16T20:09:30.578172500Z"
    }
   },
   "execution_count": 14
  },
  {
   "cell_type": "markdown",
   "source": [
    "**ADABOOST CLASSIFIER**"
   ],
   "metadata": {
    "collapsed": false
   }
  },
  {
   "cell_type": "code",
   "outputs": [
    {
     "name": "stdout",
     "output_type": "stream",
     "text": [
      "Accuracy: 100.0% con {'learning_rate': 0.7, 'n_estimators': 50}\n",
      "15.5 s ± 0 ns per loop (mean ± std. dev. of 1 run, 1 loop each)\n"
     ]
    }
   ],
   "source": [
    "%%timeit -n1 -r1\n",
    "\n",
    "abc = AdaBoostClassifier(random_state=23)\n",
    "\n",
    "Gabc = {\"n_estimators\": [2,5,10,20,50,100], \"learning_rate\": [0.01,0.1,0.3,0.5,0.7,0.9,0.99,1]}\n",
    "GSabc = GridSearchCV(abc, Gabc, scoring='accuracy', refit=True, cv=5)\n",
    "\n",
    "acc = (GSabc.fit(X_train, y_train).score(X_test, y_test))\n",
    "print(f'Accuracy: {acc:.1%} con {GSabc.best_params_}')"
   ],
   "metadata": {
    "collapsed": false,
    "ExecuteTime": {
     "end_time": "2024-08-16T20:19:10.443307200Z",
     "start_time": "2024-08-16T20:18:54.951250500Z"
    }
   },
   "execution_count": 15
  },
  {
   "cell_type": "markdown",
   "source": [
    "**GRADIENT BOOSTING CLASSIFIER**"
   ],
   "metadata": {
    "collapsed": false
   }
  },
  {
   "cell_type": "code",
   "outputs": [
    {
     "name": "stdout",
     "output_type": "stream",
     "text": [
      "Accuracy: 100.0% con {'criterion': 'friedman_mse', 'learning_rate': 0.5, 'max_depth': 1, 'min_samples_split': 2, 'n_estimators': 20}\n",
      "6min 27s ± 0 ns per loop (mean ± std. dev. of 1 run, 1 loop each)\n"
     ]
    }
   ],
   "source": [
    "%%timeit -n1 -r1\n",
    "\n",
    "gbc = GradientBoostingClassifier(random_state=23)\n",
    "\n",
    "Ggbc = {\"n_estimators\": [2,5,10,20,50], \"learning_rate\": [0.01,0.1,0.3,0.5,0.7,0.9], \"criterion\": ['friedman_mse', 'squared_error'], \"max_depth\": [1,3,5,7,10], \"min_samples_split\": [2,3,4]}\n",
    "GSgbc = GridSearchCV(gbc, Ggbc, scoring='accuracy', refit=True, cv=5)\n",
    "\n",
    "acc = (GSgbc.fit(X_train, y_train).score(X_test, y_test))\n",
    "print(f'Accuracy: {acc:.1%} con {GSgbc.best_params_}')"
   ],
   "metadata": {
    "collapsed": false,
    "ExecuteTime": {
     "end_time": "2024-08-16T20:25:51.874867400Z",
     "start_time": "2024-08-16T20:19:24.321728200Z"
    }
   },
   "execution_count": 16
  },
  {
   "cell_type": "markdown",
   "source": [
    "**KNEIGHBORS CLASSIFIER**"
   ],
   "metadata": {
    "collapsed": false
   }
  },
  {
   "cell_type": "code",
   "outputs": [
    {
     "name": "stdout",
     "output_type": "stream",
     "text": [
      "Accuracy: 80.6% con {'leaf_size': 5, 'n_neighbors': 1, 'p': 1, 'weights': 'uniform'}\n",
      "4.89 s ± 0 ns per loop (mean ± std. dev. of 1 run, 1 loop each)\n"
     ]
    }
   ],
   "source": [
    "%%timeit -n1 -r1\n",
    "\n",
    "knc = KNeighborsClassifier()\n",
    "\n",
    "Gknc = {'n_neighbors': [1,2,5,10,20], 'weights':['uniform', 'distance'], 'leaf_size': [5,10,20,30,50], 'p': [1,2,3,4,5]}\n",
    "GSknc = GridSearchCV(knc, Gknc, scoring='accuracy', refit=True, cv=5)\n",
    "\n",
    "acc = (GSknc.fit(X_train, y_train).score(X_test, y_test))\n",
    "print(f'Accuracy: {acc:.1%} con {GSknc.best_params_}')"
   ],
   "metadata": {
    "collapsed": false,
    "ExecuteTime": {
     "end_time": "2024-08-16T20:26:05.809589800Z",
     "start_time": "2024-08-16T20:26:00.903852Z"
    }
   },
   "execution_count": 17
  }
 ],
 "metadata": {
  "kernelspec": {
   "display_name": "Python 3",
   "language": "python",
   "name": "python3"
  },
  "language_info": {
   "codemirror_mode": {
    "name": "ipython",
    "version": 3
   },
   "file_extension": ".py",
   "mimetype": "text/x-python",
   "name": "python",
   "nbconvert_exporter": "python",
   "pygments_lexer": "ipython3",
   "version": "3.10.12"
  }
 },
 "nbformat": 4,
 "nbformat_minor": 2
}
